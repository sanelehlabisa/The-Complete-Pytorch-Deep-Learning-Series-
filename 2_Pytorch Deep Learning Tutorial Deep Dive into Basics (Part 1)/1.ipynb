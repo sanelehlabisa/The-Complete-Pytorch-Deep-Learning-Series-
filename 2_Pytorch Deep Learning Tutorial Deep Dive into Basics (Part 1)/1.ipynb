{
 "cells": [
  {
   "cell_type": "markdown",
   "metadata": {},
   "source": [
    "#Pytorch Basics\n",
    "\n",
    "##Introduction\n",
    "Pytorch is a deep learning framework that enables implementation of deep learning models"
   ]
  },
  {
   "cell_type": "code",
   "execution_count": 2,
   "metadata": {},
   "outputs": [],
   "source": [
    "import torch\n",
    "import torchvision\n",
    "import torch.nn as nn\n",
    "import numpy as np\n",
    "import matplotlib.pyplot as okt"
   ]
  },
  {
   "cell_type": "code",
   "execution_count": 3,
   "metadata": {},
   "outputs": [],
   "source": [
    "# Create some 'Matrices' as lists of lists\n",
    "# 3 x 3\n",
    "W = [\n",
    "    [1, 1, 1],\n",
    "    [1.5, 1.5, 1.5],\n",
    "    [2, 2, 2]\n",
    "]\n",
    "\n",
    "# 3 x 1\n",
    "x = [\n",
    "    [6],\n",
    "    [7],\n",
    "    [8]\n",
    "]\n",
    "\n",
    "# 3 x 1\n",
    "b = [\n",
    "    [1],\n",
    "    [1],\n",
    "    [1]\n",
    "]\n",
    "\n",
    "# 3 x 1\n",
    "y = [\n",
    "    [1],\n",
    "    [1],\n",
    "    [1]\n",
    "]"
   ]
  },
  {
   "cell_type": "code",
   "execution_count": 5,
   "metadata": {},
   "outputs": [
    {
     "name": "stdout",
     "output_type": "stream",
     "text": [
      "Output shape: (3, 1)\n",
      "Output: [[22. ]\n",
      " [32.5]\n",
      " [43. ]]\n"
     ]
    }
   ],
   "source": [
    "# Converting lists to numpy arrays\n",
    "W_np = np.array(W)\n",
    "\n",
    "x_np = np.array(x)\n",
    "\n",
    "# Lets use function 'ones' to create an array of ones\n",
    "b_np = np.ones((3, 1))\n",
    "\n",
    "# Lets compute Wx +b using numpy\n",
    "output = np.matmul(W_np, x_np) + b_np\n",
    "\n",
    "print(\"Output shape:\", output.shape)\n",
    "print(\"Output:\", output)\n",
    "\n",
    "\n"
   ]
  },
  {
   "cell_type": "code",
   "execution_count": 6,
   "metadata": {},
   "outputs": [
    {
     "name": "stdout",
     "output_type": "stream",
     "text": [
      "Output shape: torch.Size([3, 1])\n",
      "Output: tensor([[22.0000],\n",
      "        [32.5000],\n",
      "        [43.0000]])\n"
     ]
    }
   ],
   "source": [
    "# Similar to numpy\n",
    "W_torch = torch.FloatTensor(W)\n",
    "\n",
    "x_torch = torch.FloatTensor(x)\n",
    "\n",
    "b_torch = torch.ones(3, 1)\n",
    "\n",
    "output = torch.matmul(W_torch, x_torch) + b_torch\n",
    "\n",
    "print(\"Output shape:\", output.shape)\n",
    "print(\"Output:\", output)"
   ]
  },
  {
   "cell_type": "code",
   "execution_count": 7,
   "metadata": {},
   "outputs": [
    {
     "data": {
      "text/plain": [
       "torch.float32"
      ]
     },
     "execution_count": 7,
     "metadata": {},
     "output_type": "execute_result"
    }
   ],
   "source": [
    "torch.tensor(W).dtype"
   ]
  },
  {
   "cell_type": "code",
   "execution_count": 8,
   "metadata": {},
   "outputs": [
    {
     "data": {
      "text/plain": [
       "torch.int64"
      ]
     },
     "execution_count": 8,
     "metadata": {},
     "output_type": "execute_result"
    }
   ],
   "source": [
    "torch.tensor(x).dtype"
   ]
  },
  {
   "cell_type": "code",
   "execution_count": 9,
   "metadata": {},
   "outputs": [
    {
     "name": "stdout",
     "output_type": "stream",
     "text": [
      "numpy array: [[0.74575447 0.694081   0.33068089 0.99900005]\n",
      " [0.2017521  0.48664287 0.99671017 0.59401312]\n",
      " [0.58832475 0.42943154 0.41294713 0.48947742]]\n",
      "tensor([[0.7458, 0.6941, 0.3307, 0.9990],\n",
      "        [0.2018, 0.4866, 0.9967, 0.5940],\n",
      "        [0.5883, 0.4294, 0.4129, 0.4895]])\n",
      "numpy array: [[0.7457545  0.694081   0.33068088 0.9990001 ]\n",
      " [0.2017521  0.48664287 0.9967102  0.5940131 ]\n",
      " [0.5883247  0.42943156 0.41294712 0.48947743]]\n"
     ]
    }
   ],
   "source": [
    "# Conversion from numpy into pytorch and vice versa\n",
    "np_array = np.random.random((3, 4))\n",
    "print(\"numpy array:\", np_array)\n",
    "\n",
    "# Convert numpy array into tensor\n",
    "torch_tensor = torch.FloatTensor(np_array)\n",
    "print(torch_tensor)\n",
    "\n",
    "# Convert torch tensor back to numpy array\n",
    "np_arrray_2 = torch_tensor.numpy()\n",
    "print(\"numpy array:\", np_arrray_2)"
   ]
  },
  {
   "cell_type": "code",
   "execution_count": 10,
   "metadata": {},
   "outputs": [
    {
     "name": "stdout",
     "output_type": "stream",
     "text": [
      "Our 2D tensor: tensor([[0.2273, 0.5745, 0.9259, 0.7307, 0.3776],\n",
      "        [0.7953, 0.0467, 0.9034, 0.2353, 0.4092],\n",
      "        [0.2028, 0.9067, 0.1711, 0.8145, 0.1292],\n",
      "        [0.2710, 0.4368, 0.4910, 0.9744, 0.8632]])\n",
      "Scalar Multiplication: tensor([[2.2731, 5.7447, 9.2587, 7.3072, 3.7756],\n",
      "        [7.9527, 0.4668, 9.0338, 2.3534, 4.0924],\n",
      "        [2.0279, 9.0673, 1.7113, 8.1448, 1.2919],\n",
      "        [2.7095, 4.3680, 4.9096, 9.7440, 8.6320]])\n",
      "Addition and Square: tensor([[1.5063, 2.4790, 3.7090, 2.9954, 1.8977],\n",
      "        [3.2230, 1.0955, 3.6229, 1.5261, 1.9860],\n",
      "        [1.4467, 3.6356, 1.3715, 3.2923, 1.2751],\n",
      "        [1.6153, 2.0644, 2.2230, 3.8983, 3.4715]])\n",
      "Addition: tensor([[0.4546, 1.1489, 1.8517, 1.4614, 0.7551],\n",
      "        [1.5905, 0.0934, 1.8068, 0.4707, 0.8185],\n",
      "        [0.4056, 1.8135, 0.3423, 1.6290, 0.2584],\n",
      "        [0.5419, 0.8736, 0.9819, 1.9488, 1.7264]])\n",
      "Addition and Division: tensor([[0.5000, 0.5000, 0.5000, 0.5000, 0.5000],\n",
      "        [0.5000, 0.5000, 0.5000, 0.5000, 0.5000],\n",
      "        [0.5000, 0.5000, 0.5000, 0.5000, 0.5000],\n",
      "        [0.5000, 0.5000, 0.5000, 0.5000, 0.5000]])\n",
      "Power and square root: tensor([[0.2273, 0.5745, 0.9259, 0.7307, 0.3776],\n",
      "        [0.7953, 0.0467, 0.9034, 0.2353, 0.4092],\n",
      "        [0.2028, 0.9067, 0.1711, 0.8145, 0.1292],\n",
      "        [0.2710, 0.4368, 0.4910, 0.9744, 0.8632]])\n",
      "Min: 0.04667598009109497\t Max: 0.9744036197662354\t Std: 0.31314709782600403\t Sum: 10.486478805541992\n"
     ]
    }
   ],
   "source": [
    "# Basic elementwise operations\n",
    "# Lets create a 2D tensor using torch.rand\n",
    "y = torch.rand(4, 5)\n",
    "print(\"Our 2D tensor:\", y)\n",
    "\n",
    "# We can perform normal scalar arithmetic on a tensor\n",
    "print(\"Scalar Multiplication:\", y * 10)\n",
    "print(\"Addition and Square:\", (y + 1) ** 2)\n",
    "print(\"Addition:\", y + y)\n",
    "print(\"Addition and Division:\", y/(y+y))\n",
    "\n",
    "# We can use a combonation of functions and normal python arithmetic\n",
    "print(\"Power and square root:\", torch.sqrt(y ** 2))\n",
    "\n",
    "# Tensors are objects and have functions\n",
    "print(f\"Min: {y.min()}\\t Max: {y.max()}\\t Std: {y.std()}\\t Sum: {y.sum()}\")"
   ]
  },
  {
   "cell_type": "code",
   "execution_count": null,
   "metadata": {},
   "outputs": [],
   "source": [
    "# Tensor operations\n",
    "tensor_1 = torch.rand(3, 3, 3)\n",
    "tensor_2 = torch.rand(3, 3, 3)\n",
    "\n",
    "# Addition of two tensors\n",
    "print(\"Addition:\", tensor_1 + tensor_2)\n",
    "\n",
    "# batch Multiplication\n",
    "print(\"Batch Multiplication:\", torch.bmm(tensor_1, tensor_2))"
   ]
  },
  {
   "cell_type": "code",
   "execution_count": 11,
   "metadata": {},
   "outputs": [
    {
     "name": "stdout",
     "output_type": "stream",
     "text": [
      "Original tensor: tensor([[[0.5600, 0.3923, 0.3368, 0.3188, 0.5633],\n",
      "         [0.0326, 0.9750, 0.3185, 0.1437, 0.0887],\n",
      "         [0.8491, 0.1642, 0.1721, 0.0584, 0.3089],\n",
      "         [0.8318, 0.6682, 0.1231, 0.5838, 0.5607]],\n",
      "\n",
      "        [[0.4032, 0.5371, 0.8027, 0.6567, 0.5139],\n",
      "         [0.8255, 0.8844, 0.4168, 0.9622, 0.6535],\n",
      "         [0.8819, 0.2211, 0.1585, 0.7467, 0.1179],\n",
      "         [0.4076, 0.5447, 0.4378, 0.1726, 0.7961]]])\n",
      "Original tensor shape: torch.Size([2, 4, 5])\n",
      "Transposed tensor: tensor([[[0.5600, 0.4032],\n",
      "         [0.0326, 0.8255],\n",
      "         [0.8491, 0.8819],\n",
      "         [0.8318, 0.4076]],\n",
      "\n",
      "        [[0.3923, 0.5371],\n",
      "         [0.9750, 0.8844],\n",
      "         [0.1642, 0.2211],\n",
      "         [0.6682, 0.5447]],\n",
      "\n",
      "        [[0.3368, 0.8027],\n",
      "         [0.3185, 0.4168],\n",
      "         [0.1721, 0.1585],\n",
      "         [0.1231, 0.4378]],\n",
      "\n",
      "        [[0.3188, 0.6567],\n",
      "         [0.1437, 0.9622],\n",
      "         [0.0584, 0.7467],\n",
      "         [0.5838, 0.1726]],\n",
      "\n",
      "        [[0.5633, 0.5139],\n",
      "         [0.0887, 0.6535],\n",
      "         [0.3089, 0.1179],\n",
      "         [0.5607, 0.7961]]])\n",
      "Transposed tensor shape: torch.Size([5, 4, 2])\n"
     ]
    }
   ],
   "source": [
    "# Lets create a more interesting tensor\n",
    "tensor_3 = torch.rand(2, 4, 5)\n",
    "\n",
    "# We can swap tensor dimentions\n",
    "print(\"Original tensor:\", tensor_3)\n",
    "print(\"Original tensor shape:\", tensor_3.shape)\n",
    "\n",
    "# We can transpose tensor as follows\n",
    "transposed_tensor_3 = tensor_3.transpose(0, 2)\n",
    "print(\"Transposed tensor:\", transposed_tensor_3)\n",
    "print(\"Transposed tensor shape:\", transposed_tensor_3.shape)"
   ]
  },
  {
   "cell_type": "code",
   "execution_count": 13,
   "metadata": {},
   "outputs": [
    {
     "name": "stdout",
     "output_type": "stream",
     "text": [
      "Last element of dim0: tensor([[[0.2285, 0.1995, 0.8431, 0.2430]],\n",
      "\n",
      "        [[0.2437, 0.3660, 0.6045, 0.0132]],\n",
      "\n",
      "        [[0.5802, 0.3566, 0.5938, 0.1747]]])\n",
      "Indexed elements: tensor([0.7985, 0.6045])\n",
      "Indexed elemnts: tensor([[0.5703, 0.2807, 0.7985, 0.2731]])\n",
      "Indexed elements: tensor([0.7985, 0.6045])\n"
     ]
    }
   ],
   "source": [
    "# Indexing\n",
    "# Create a 4D tensor\n",
    "tensor = torch.rand(2, 3, 1, 4)\n",
    "\n",
    "# Select last element of dim0\n",
    "print(\"Last element of dim0:\", tensor[-1])\n",
    "\n",
    "# Select all elemnts in dim0\n",
    "# The 2nd element of dim1\n",
    "# The 1st element of dim2\n",
    "# The 3rd element of dim3\n",
    "print(\"Indexed elements:\", tensor[:, 1, 0, 2])\n",
    "\n",
    "# Select 1st element from dim0\n",
    "# The 2nd elemnt of dim1\n",
    "print(\"Indexed elemnts:\", tensor[0, 1])\n",
    "\n",
    "# Select all elements from dim0\n",
    "# The 2nd element of dim1\n",
    "# The 1st element of dim2\n",
    "# The 3rd element of dim3\n",
    "print(\"Indexed elements:\", tensor[:, 1, 0, 2])"
   ]
  },
  {
   "cell_type": "code",
   "execution_count": 14,
   "metadata": {},
   "outputs": [
    {
     "name": "stdout",
     "output_type": "stream",
     "text": [
      "Tensor shape: torch.Size([3, 5, 3, 2])\n",
      "Tensor shape: torch.Size([3, 5, 3, 2])\n",
      "Total number of elements in a tensor: 90\n",
      "Number of dimensions of a tensor: 4\n"
     ]
    }
   ],
   "source": [
    "# Tensor Description\n",
    "\n",
    "# Lets create a large 4D tensor\n",
    "tensor = torch.rand(3, 5, 3, 2)\n",
    "\n",
    "# View the number of elements in every dimension\n",
    "print(\"Tensor shape:\", tensor.shape)\n",
    "\n",
    "# Also use size() to get the shape of a  tensor\n",
    "print(\"Tensor shape:\", tensor.size())\n",
    "\n",
    "# View total number of elements in a tensor\n",
    "print(\"Total number of elements in a tensor:\", tensor.numel())\n",
    "\n",
    "# View number of dimensions\n",
    "print(\"Number of dimensions of a tensor:\", tensor.ndim)"
   ]
  },
  {
   "cell_type": "code",
   "execution_count": 16,
   "metadata": {},
   "outputs": [
    {
     "name": "stdout",
     "output_type": "stream",
     "text": [
      "Reshape to 3x30: tensor([[0.8645, 0.2700, 0.3654, 0.3149, 0.5697, 0.9797, 0.5576, 0.4756, 0.7761,\n",
      "         0.5547, 0.2647, 0.2775, 0.7836, 0.6161, 0.9882, 0.1077, 0.7268, 0.8964,\n",
      "         0.4024, 0.8445, 0.2857, 0.7473, 0.7414, 0.9851, 0.9718, 0.4182, 0.1455,\n",
      "         0.4635, 0.5408, 0.5409],\n",
      "        [0.4489, 0.3846, 0.6211, 0.0176, 0.7443, 0.2036, 0.4177, 0.5245, 0.4443,\n",
      "         0.7930, 0.8229, 0.4333, 0.9144, 0.8422, 0.0096, 0.2146, 0.9692, 0.3228,\n",
      "         0.9849, 0.6887, 0.2696, 0.5062, 0.2783, 0.4446, 0.1681, 0.9933, 0.7770,\n",
      "         0.9956, 0.2829, 0.7609],\n",
      "        [0.7793, 0.9173, 0.1154, 0.6977, 0.1795, 0.2494, 0.2402, 0.9446, 0.5834,\n",
      "         0.5661, 0.8031, 0.0304, 0.4986, 0.9368, 0.3132, 0.8191, 0.7657, 0.9424,\n",
      "         0.6521, 0.4680, 0.9781, 0.7742, 0.4606, 0.1190, 0.5478, 0.0639, 0.9959,\n",
      "         0.1323, 0.2133, 0.1917]])\n",
      "Flattened tensor: tensor([0.8645, 0.2700, 0.3654, 0.3149, 0.5697, 0.9797, 0.5576, 0.4756, 0.7761,\n",
      "        0.5547, 0.2647, 0.2775, 0.7836, 0.6161, 0.9882, 0.1077, 0.7268, 0.8964,\n",
      "        0.4024, 0.8445, 0.2857, 0.7473, 0.7414, 0.9851, 0.9718, 0.4182, 0.1455,\n",
      "        0.4635, 0.5408, 0.5409, 0.4489, 0.3846, 0.6211, 0.0176, 0.7443, 0.2036,\n",
      "        0.4177, 0.5245, 0.4443, 0.7930, 0.8229, 0.4333, 0.9144, 0.8422, 0.0096,\n",
      "        0.2146, 0.9692, 0.3228, 0.9849, 0.6887, 0.2696, 0.5062, 0.2783, 0.4446,\n",
      "        0.1681, 0.9933, 0.7770, 0.9956, 0.2829, 0.7609, 0.7793, 0.9173, 0.1154,\n",
      "        0.6977, 0.1795, 0.2494, 0.2402, 0.9446, 0.5834, 0.5661, 0.8031, 0.0304,\n",
      "        0.4986, 0.9368, 0.3132, 0.8191, 0.7657, 0.9424, 0.6521, 0.4680, 0.9781,\n",
      "        0.7742, 0.4606, 0.1190, 0.5478, 0.0639, 0.9959, 0.1323, 0.2133, 0.1917])\n",
      "Reshaped tensor into 10xwhatever: tensor([[0.8645, 0.2700, 0.3654, 0.3149, 0.5697, 0.9797, 0.5576, 0.4756, 0.7761],\n",
      "        [0.5547, 0.2647, 0.2775, 0.7836, 0.6161, 0.9882, 0.1077, 0.7268, 0.8964],\n",
      "        [0.4024, 0.8445, 0.2857, 0.7473, 0.7414, 0.9851, 0.9718, 0.4182, 0.1455],\n",
      "        [0.4635, 0.5408, 0.5409, 0.4489, 0.3846, 0.6211, 0.0176, 0.7443, 0.2036],\n",
      "        [0.4177, 0.5245, 0.4443, 0.7930, 0.8229, 0.4333, 0.9144, 0.8422, 0.0096],\n",
      "        [0.2146, 0.9692, 0.3228, 0.9849, 0.6887, 0.2696, 0.5062, 0.2783, 0.4446],\n",
      "        [0.1681, 0.9933, 0.7770, 0.9956, 0.2829, 0.7609, 0.7793, 0.9173, 0.1154],\n",
      "        [0.6977, 0.1795, 0.2494, 0.2402, 0.9446, 0.5834, 0.5661, 0.8031, 0.0304],\n",
      "        [0.4986, 0.9368, 0.3132, 0.8191, 0.7657, 0.9424, 0.6521, 0.4680, 0.9781],\n",
      "        [0.7742, 0.4606, 0.1190, 0.5478, 0.0639, 0.9959, 0.1323, 0.2133, 0.1917]])\n"
     ]
    }
   ],
   "source": [
    "# Reshaping\n",
    "\n",
    "# Let us reshape our 2D tensor\n",
    "print(\"Reshape to 3x30:\", tensor.reshape(3, 30))\n",
    "\n",
    "# Let us flatten our tensor into 1D tensor\n",
    "print(\"Flattened tensor:\", tensor.flatten())\n",
    "\n",
    "# Let is reshape int 10, whatever\n",
    "print(\"Reshaped tensor into 10xwhatever:\", tensor.reshape(10, -1))"
   ]
  },
  {
   "cell_type": "code",
   "execution_count": 18,
   "metadata": {},
   "outputs": [
    {
     "name": "stdout",
     "output_type": "stream",
     "text": [
      "Tensor shape: torch.Size([3, 2])\n",
      "Add an empty dimension to dim3: torch.Size([3, 2, 1])\n",
      "Add empty dim into dim2 of our tensor: torch.Size([3, 1, 2])\n"
     ]
    }
   ],
   "source": [
    "# Unsqueezing\n",
    "\n",
    "tensor = torch.rand(3, 2)\n",
    "\n",
    "# View tensor shape\n",
    "print(\"Tensor shape:\", tensor.shape)\n",
    "\n",
    "# Add empty dimension\n",
    "print(\"Add an empty dimension to dim3:\", tensor.unsqueeze(2).shape)\n",
    "\n",
    "# Add an empty dimention into our tensor\n",
    "print(\"Add empty dim into dim2 of our tensor:\", tensor.unsqueeze(1).shape)"
   ]
  },
  {
   "cell_type": "code",
   "execution_count": 20,
   "metadata": {},
   "outputs": [
    {
     "name": "stdout",
     "output_type": "stream",
     "text": [
      "Tensor shape: torch.Size([1, 3, 1, 2])\n",
      "Tensor with empty dimension dim3 removed: torch.Size([1, 3, 2])\n",
      "Tensor shape with empty dimension dim1 removed: torch.Size([3, 1, 2])\n",
      "Tensor with all empty dimensions removed: tensor([[0.5220, 0.4349],\n",
      "        [0.8164, 0.9817],\n",
      "        [0.2937, 0.4353]])\n"
     ]
    }
   ],
   "source": [
    "# Squeezing\n",
    "\n",
    "# Lets create a 4D tensor with some empty dimension\n",
    "tensor = torch.rand(1, 3, 1, 2)\n",
    "\n",
    "# View original tensor shape\n",
    "print(\"Tensor shape:\", tensor.shape)\n",
    "\n",
    "# Remove empty dimension at dim3\n",
    "print(\"Tensor with empty dimension dim3 removed:\", tensor.squeeze(2).shape)\n",
    "\n",
    "# Remove empty dimension at dim1\n",
    "print(\"Tensor shape with empty dimension dim1 removed:\", tensor.squeeze(0).shape)\n",
    "\n",
    "# Remove all empty dim from our tensor\n",
    "print(\"Tensor with all empty dimensions removed:\", tensor.squeeze())\n",
    "\n"
   ]
  },
  {
   "cell_type": "code",
   "execution_count": 21,
   "metadata": {},
   "outputs": [
    {
     "name": "stdout",
     "output_type": "stream",
     "text": [
      "Tensor 1 shape: torch.Size([1, 4, 3, 1])\n",
      "Tensor 2 shape: torch.Size([3, 4, 1, 4])\n",
      "Resulting tensor 3 shape torch.Size([3, 4, 3, 4])\n"
     ]
    }
   ],
   "source": [
    "# Broadcasting\n",
    "tensor_1 = torch.rand(1, 4, 3, 1)\n",
    "tensor_2 = torch.rand(3, 4, 1, 4)\n",
    "\n",
    "print(\"Tensor 1 shape:\", tensor_1.shape)\n",
    "print(\"Tensor 2 shape:\", tensor_2.shape)\n",
    "\n",
    "tensor_3 = tensor_1 + tensor_2\n",
    "\n",
    "print(\"Resulting tensor 3 shape\", tensor_3.shape)"
   ]
  }
 ],
 "metadata": {
  "kernelspec": {
   "display_name": "venv",
   "language": "python",
   "name": "python3"
  },
  "language_info": {
   "codemirror_mode": {
    "name": "ipython",
    "version": 3
   },
   "file_extension": ".py",
   "mimetype": "text/x-python",
   "name": "python",
   "nbconvert_exporter": "python",
   "pygments_lexer": "ipython3",
   "version": "3.12.8"
  }
 },
 "nbformat": 4,
 "nbformat_minor": 2
}
