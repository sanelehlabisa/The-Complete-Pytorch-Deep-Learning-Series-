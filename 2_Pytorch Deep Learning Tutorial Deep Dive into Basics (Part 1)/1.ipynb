{
 "cells": [
  {
   "cell_type": "markdown",
   "metadata": {},
   "source": [
    "#Pytorch Basics\n",
    "\n",
    "##Introduction\n",
    "Pytorch is a deep learning framework that enables implementation of deep learning models"
   ]
  },
  {
   "cell_type": "code",
   "execution_count": 1,
   "metadata": {},
   "outputs": [],
   "source": [
    "import torch\n",
    "import torchvision\n",
    "import torch.nn as nn\n",
    "import numpy as np\n",
    "import matplotlib.pyplot as plt"
   ]
  },
  {
   "cell_type": "code",
   "execution_count": 2,
   "metadata": {},
   "outputs": [],
   "source": [
    "# Create some 'Matrices' as lists of lists\n",
    "# 3 x 3\n",
    "W = [\n",
    "    [1, 1, 1],\n",
    "    [1.5, 1.5, 1.5],\n",
    "    [2, 2, 2]\n",
    "]\n",
    "\n",
    "# 3 x 1\n",
    "x = [\n",
    "    [6],\n",
    "    [7],\n",
    "    [8]\n",
    "]\n",
    "\n",
    "# 3 x 1\n",
    "b = [\n",
    "    [1],\n",
    "    [1],\n",
    "    [1]\n",
    "]\n",
    "\n",
    "# 3 x 1\n",
    "y = [\n",
    "    [1],\n",
    "    [1],\n",
    "    [1]\n",
    "]"
   ]
  },
  {
   "cell_type": "code",
   "execution_count": 3,
   "metadata": {},
   "outputs": [
    {
     "name": "stdout",
     "output_type": "stream",
     "text": [
      "Output shape: (3, 1)\n",
      "Output: [[22. ]\n",
      " [32.5]\n",
      " [43. ]]\n"
     ]
    }
   ],
   "source": [
    "# Converting lists to numpy arrays\n",
    "W_np = np.array(W)\n",
    "\n",
    "x_np = np.array(x)\n",
    "\n",
    "# Lets use function 'ones' to create an array of ones\n",
    "b_np = np.ones((3, 1))\n",
    "\n",
    "# Lets compute Wx +b using numpy\n",
    "output = np.matmul(W_np, x_np) + b_np\n",
    "\n",
    "print(\"Output shape:\", output.shape)\n",
    "print(\"Output:\", output)\n",
    "\n",
    "\n"
   ]
  },
  {
   "cell_type": "code",
   "execution_count": 4,
   "metadata": {},
   "outputs": [
    {
     "name": "stdout",
     "output_type": "stream",
     "text": [
      "Output shape: torch.Size([3, 1])\n",
      "Output: tensor([[22.0000],\n",
      "        [32.5000],\n",
      "        [43.0000]])\n"
     ]
    }
   ],
   "source": [
    "# Similar to numpy\n",
    "W_torch = torch.FloatTensor(W)\n",
    "\n",
    "x_torch = torch.FloatTensor(x)\n",
    "\n",
    "b_torch = torch.ones(3, 1)\n",
    "\n",
    "output = torch.matmul(W_torch, x_torch) + b_torch\n",
    "\n",
    "print(\"Output shape:\", output.shape)\n",
    "print(\"Output:\", output)"
   ]
  },
  {
   "cell_type": "code",
   "execution_count": 5,
   "metadata": {},
   "outputs": [
    {
     "data": {
      "text/plain": [
       "torch.float32"
      ]
     },
     "execution_count": 5,
     "metadata": {},
     "output_type": "execute_result"
    }
   ],
   "source": [
    "torch.tensor(W).dtype"
   ]
  },
  {
   "cell_type": "code",
   "execution_count": 6,
   "metadata": {},
   "outputs": [
    {
     "data": {
      "text/plain": [
       "torch.int64"
      ]
     },
     "execution_count": 6,
     "metadata": {},
     "output_type": "execute_result"
    }
   ],
   "source": [
    "torch.tensor(x).dtype"
   ]
  },
  {
   "cell_type": "code",
   "execution_count": 7,
   "metadata": {},
   "outputs": [
    {
     "name": "stdout",
     "output_type": "stream",
     "text": [
      "numpy array: [[0.00272668 0.60708156 0.53156783 0.98195564]\n",
      " [0.45842555 0.2777043  0.41372179 0.7597408 ]\n",
      " [0.04436627 0.48137874 0.49970038 0.71944602]]\n",
      "tensor([[0.0027, 0.6071, 0.5316, 0.9820],\n",
      "        [0.4584, 0.2777, 0.4137, 0.7597],\n",
      "        [0.0444, 0.4814, 0.4997, 0.7194]])\n",
      "numpy array: [[0.00272668 0.60708153 0.5315678  0.98195565]\n",
      " [0.45842555 0.2777043  0.4137218  0.7597408 ]\n",
      " [0.04436627 0.48137873 0.49970037 0.719446  ]]\n"
     ]
    }
   ],
   "source": [
    "# Conversion from numpy into pytorch and vice versa\n",
    "np_array = np.random.random((3, 4))\n",
    "print(\"numpy array:\", np_array)\n",
    "\n",
    "# Convert numpy array into tensor\n",
    "torch_tensor = torch.FloatTensor(np_array)\n",
    "print(torch_tensor)\n",
    "\n",
    "# Convert torch tensor back to numpy array\n",
    "np_arrray_2 = torch_tensor.numpy()\n",
    "print(\"numpy array:\", np_arrray_2)"
   ]
  },
  {
   "cell_type": "code",
   "execution_count": 8,
   "metadata": {},
   "outputs": [
    {
     "name": "stdout",
     "output_type": "stream",
     "text": [
      "Our 2D tensor: tensor([[0.9845, 0.6354, 0.0928, 0.8114, 0.0641],\n",
      "        [0.5359, 0.8209, 0.4210, 0.2497, 0.4563],\n",
      "        [0.3042, 0.1687, 0.7989, 0.5255, 0.7474],\n",
      "        [0.6749, 0.8940, 0.4366, 0.7960, 0.2795]])\n",
      "Scalar Multiplication: tensor([[9.8447, 6.3536, 0.9277, 8.1141, 0.6414],\n",
      "        [5.3587, 8.2088, 4.2104, 2.4970, 4.5632],\n",
      "        [3.0424, 1.6871, 7.9886, 5.2547, 7.4742],\n",
      "        [6.7492, 8.9404, 4.3658, 7.9603, 2.7949]])\n",
      "Addition and Square: tensor([[3.9381, 2.6744, 1.1941, 3.2812, 1.1324],\n",
      "        [2.3589, 3.3156, 2.0194, 1.5617, 2.1209],\n",
      "        [1.7010, 1.3659, 3.2359, 2.3270, 3.0535],\n",
      "        [2.8054, 3.5874, 2.0638, 3.2257, 1.6371]])\n",
      "Addition: tensor([[1.9689, 1.2707, 0.1855, 1.6228, 0.1283],\n",
      "        [1.0717, 1.6418, 0.8421, 0.4994, 0.9126],\n",
      "        [0.6085, 0.3374, 1.5977, 1.0509, 1.4948],\n",
      "        [1.3498, 1.7881, 0.8732, 1.5921, 0.5590]])\n",
      "Addition and Division: tensor([[0.5000, 0.5000, 0.5000, 0.5000, 0.5000],\n",
      "        [0.5000, 0.5000, 0.5000, 0.5000, 0.5000],\n",
      "        [0.5000, 0.5000, 0.5000, 0.5000, 0.5000],\n",
      "        [0.5000, 0.5000, 0.5000, 0.5000, 0.5000]])\n",
      "Power and square root: tensor([[0.9845, 0.6354, 0.0928, 0.8114, 0.0641],\n",
      "        [0.5359, 0.8209, 0.4210, 0.2497, 0.4563],\n",
      "        [0.3042, 0.1687, 0.7989, 0.5255, 0.7474],\n",
      "        [0.6749, 0.8940, 0.4366, 0.7960, 0.2795]])\n",
      "Min: 0.06414222717285156\t Max: 0.9844669103622437\t Std: 0.2792779803276062\t Sum: 10.697705268859863\n"
     ]
    }
   ],
   "source": [
    "# Basic elementwise operations\n",
    "# Lets create a 2D tensor using torch.rand\n",
    "y = torch.rand(4, 5)\n",
    "print(\"Our 2D tensor:\", y)\n",
    "\n",
    "# We can perform normal scalar arithmetic on a tensor\n",
    "print(\"Scalar Multiplication:\", y * 10)\n",
    "print(\"Addition and Square:\", (y + 1) ** 2)\n",
    "print(\"Addition:\", y + y)\n",
    "print(\"Addition and Division:\", y/(y+y))\n",
    "\n",
    "# We can use a combonation of functions and normal python arithmetic\n",
    "print(\"Power and square root:\", torch.sqrt(y ** 2))\n",
    "\n",
    "# Tensors are objects and have functions\n",
    "print(f\"Min: {y.min()}\\t Max: {y.max()}\\t Std: {y.std()}\\t Sum: {y.sum()}\")"
   ]
  },
  {
   "cell_type": "code",
   "execution_count": 9,
   "metadata": {},
   "outputs": [
    {
     "name": "stdout",
     "output_type": "stream",
     "text": [
      "Addition: tensor([[[1.0840, 1.4033, 1.0477],\n",
      "         [0.9643, 1.4877, 1.3872],\n",
      "         [0.5112, 0.6099, 1.8225]],\n",
      "\n",
      "        [[0.4182, 1.3022, 0.7841],\n",
      "         [0.4928, 1.1242, 0.1259],\n",
      "         [1.0039, 1.2859, 0.8155]],\n",
      "\n",
      "        [[0.9973, 1.0872, 0.8889],\n",
      "         [1.1594, 0.8770, 1.5168],\n",
      "         [1.1958, 0.9406, 0.8198]]])\n",
      "Batch Multiplication: tensor([[[0.7231, 0.8793, 1.0274],\n",
      "         [0.7041, 0.8511, 1.0740],\n",
      "         [0.6331, 0.7203, 1.2082]],\n",
      "\n",
      "        [[0.4005, 0.4310, 0.2207],\n",
      "         [0.3704, 0.3487, 0.0587],\n",
      "         [0.8138, 1.1413, 0.3639]],\n",
      "\n",
      "        [[0.4651, 0.3805, 0.6254],\n",
      "         [1.2623, 1.2667, 1.6723],\n",
      "         [0.6134, 0.6044, 0.6057]]])\n"
     ]
    }
   ],
   "source": [
    "# Tensor operations\n",
    "tensor_1 = torch.rand(3, 3, 3)\n",
    "tensor_2 = torch.rand(3, 3, 3)\n",
    "\n",
    "# Addition of two tensors\n",
    "print(\"Addition:\", tensor_1 + tensor_2)\n",
    "\n",
    "# batch Multiplication\n",
    "print(\"Batch Multiplication:\", torch.bmm(tensor_1, tensor_2))"
   ]
  },
  {
   "cell_type": "code",
   "execution_count": 10,
   "metadata": {},
   "outputs": [
    {
     "name": "stdout",
     "output_type": "stream",
     "text": [
      "Original tensor: tensor([[[0.0168, 0.2614, 0.8212, 0.0143, 0.7404],\n",
      "         [0.1902, 0.6559, 0.8941, 0.4191, 0.6182],\n",
      "         [0.1299, 0.1597, 0.1009, 0.6452, 0.4399],\n",
      "         [0.7993, 0.5302, 0.7332, 0.4157, 0.7733]],\n",
      "\n",
      "        [[0.4216, 0.2348, 0.9562, 0.5039, 0.9001],\n",
      "         [0.6504, 0.5794, 0.3923, 0.8618, 0.7633],\n",
      "         [0.0418, 0.1415, 0.4534, 0.7402, 0.5527],\n",
      "         [0.9647, 0.4253, 0.1606, 0.5065, 0.5979]]])\n",
      "Original tensor shape: torch.Size([2, 4, 5])\n",
      "Transposed tensor: tensor([[[0.0168, 0.4216],\n",
      "         [0.1902, 0.6504],\n",
      "         [0.1299, 0.0418],\n",
      "         [0.7993, 0.9647]],\n",
      "\n",
      "        [[0.2614, 0.2348],\n",
      "         [0.6559, 0.5794],\n",
      "         [0.1597, 0.1415],\n",
      "         [0.5302, 0.4253]],\n",
      "\n",
      "        [[0.8212, 0.9562],\n",
      "         [0.8941, 0.3923],\n",
      "         [0.1009, 0.4534],\n",
      "         [0.7332, 0.1606]],\n",
      "\n",
      "        [[0.0143, 0.5039],\n",
      "         [0.4191, 0.8618],\n",
      "         [0.6452, 0.7402],\n",
      "         [0.4157, 0.5065]],\n",
      "\n",
      "        [[0.7404, 0.9001],\n",
      "         [0.6182, 0.7633],\n",
      "         [0.4399, 0.5527],\n",
      "         [0.7733, 0.5979]]])\n",
      "Transposed tensor shape: torch.Size([5, 4, 2])\n"
     ]
    }
   ],
   "source": [
    "# Lets create a more interesting tensor\n",
    "tensor_3 = torch.rand(2, 4, 5)\n",
    "\n",
    "# We can swap tensor dimentions\n",
    "print(\"Original tensor:\", tensor_3)\n",
    "print(\"Original tensor shape:\", tensor_3.shape)\n",
    "\n",
    "# We can transpose tensor as follows\n",
    "transposed_tensor_3 = tensor_3.transpose(0, 2)\n",
    "print(\"Transposed tensor:\", transposed_tensor_3)\n",
    "print(\"Transposed tensor shape:\", transposed_tensor_3.shape)"
   ]
  },
  {
   "cell_type": "code",
   "execution_count": 11,
   "metadata": {},
   "outputs": [
    {
     "name": "stdout",
     "output_type": "stream",
     "text": [
      "Last element of dim0: tensor([[[2.2721e-04, 2.9811e-01, 5.6709e-01, 7.1589e-01]],\n",
      "\n",
      "        [[7.8863e-01, 5.1459e-01, 9.4678e-01, 4.9909e-01]],\n",
      "\n",
      "        [[7.1014e-01, 5.1081e-01, 5.3693e-01, 5.5347e-02]]])\n",
      "Indexed elements: tensor([0.0244, 0.9468])\n",
      "Indexed elemnts: tensor([[0.0979, 0.7150, 0.0244, 0.3713]])\n",
      "Indexed elements: tensor([0.0244, 0.9468])\n"
     ]
    }
   ],
   "source": [
    "# Indexing\n",
    "# Create a 4D tensor\n",
    "tensor = torch.rand(2, 3, 1, 4)\n",
    "\n",
    "# Select last element of dim0\n",
    "print(\"Last element of dim0:\", tensor[-1])\n",
    "\n",
    "# Select all elemnts in dim0\n",
    "# The 2nd element of dim1\n",
    "# The 1st element of dim2\n",
    "# The 3rd element of dim3\n",
    "print(\"Indexed elements:\", tensor[:, 1, 0, 2])\n",
    "\n",
    "# Select 1st element from dim0\n",
    "# The 2nd elemnt of dim1\n",
    "print(\"Indexed elemnts:\", tensor[0, 1])\n",
    "\n",
    "# Select all elements from dim0\n",
    "# The 2nd element of dim1\n",
    "# The 1st element of dim2\n",
    "# The 3rd element of dim3\n",
    "print(\"Indexed elements:\", tensor[:, 1, 0, 2])"
   ]
  },
  {
   "cell_type": "code",
   "execution_count": 12,
   "metadata": {},
   "outputs": [
    {
     "name": "stdout",
     "output_type": "stream",
     "text": [
      "Tensor shape: torch.Size([3, 5, 3, 2])\n",
      "Tensor shape: torch.Size([3, 5, 3, 2])\n",
      "Total number of elements in a tensor: 90\n",
      "Number of dimensions of a tensor: 4\n"
     ]
    }
   ],
   "source": [
    "# Tensor Description\n",
    "\n",
    "# Lets create a large 4D tensor\n",
    "tensor = torch.rand(3, 5, 3, 2)\n",
    "\n",
    "# View the number of elements in every dimension\n",
    "print(\"Tensor shape:\", tensor.shape)\n",
    "\n",
    "# Also use size() to get the shape of a  tensor\n",
    "print(\"Tensor shape:\", tensor.size())\n",
    "\n",
    "# View total number of elements in a tensor\n",
    "print(\"Total number of elements in a tensor:\", tensor.numel())\n",
    "\n",
    "# View number of dimensions\n",
    "print(\"Number of dimensions of a tensor:\", tensor.ndim)"
   ]
  },
  {
   "cell_type": "code",
   "execution_count": 13,
   "metadata": {},
   "outputs": [
    {
     "name": "stdout",
     "output_type": "stream",
     "text": [
      "Reshape to 3x30: tensor([[0.5014, 0.3707, 0.9874, 0.9733, 0.2456, 0.3945, 0.1525, 0.0036, 0.1366,\n",
      "         0.5780, 0.7238, 0.6569, 0.2954, 0.1903, 0.8468, 0.1359, 0.3250, 0.0348,\n",
      "         0.2521, 0.9897, 0.8453, 0.4620, 0.4876, 0.2512, 0.5078, 0.0495, 0.8859,\n",
      "         0.2423, 0.2748, 0.7475],\n",
      "        [0.8575, 0.6595, 0.1758, 0.4125, 0.2497, 0.5093, 0.7068, 0.3127, 0.2104,\n",
      "         0.0655, 0.5306, 0.9780, 0.1043, 0.0234, 0.1838, 0.5133, 0.3568, 0.3392,\n",
      "         0.3435, 0.8018, 0.0378, 0.5088, 0.9264, 0.3189, 0.1080, 0.8899, 0.5384,\n",
      "         0.2655, 0.4484, 0.5292],\n",
      "        [0.5962, 0.5973, 0.2889, 0.9380, 0.3564, 0.9995, 0.9741, 0.9333, 0.8810,\n",
      "         0.8279, 0.8924, 0.4188, 0.8346, 0.7926, 0.4684, 0.2128, 0.2165, 0.3427,\n",
      "         0.5207, 0.0228, 0.0330, 0.7184, 0.5951, 0.4433, 0.2293, 0.5829, 0.2508,\n",
      "         0.1528, 0.6604, 0.1241]])\n",
      "Flattened tensor: tensor([0.5014, 0.3707, 0.9874, 0.9733, 0.2456, 0.3945, 0.1525, 0.0036, 0.1366,\n",
      "        0.5780, 0.7238, 0.6569, 0.2954, 0.1903, 0.8468, 0.1359, 0.3250, 0.0348,\n",
      "        0.2521, 0.9897, 0.8453, 0.4620, 0.4876, 0.2512, 0.5078, 0.0495, 0.8859,\n",
      "        0.2423, 0.2748, 0.7475, 0.8575, 0.6595, 0.1758, 0.4125, 0.2497, 0.5093,\n",
      "        0.7068, 0.3127, 0.2104, 0.0655, 0.5306, 0.9780, 0.1043, 0.0234, 0.1838,\n",
      "        0.5133, 0.3568, 0.3392, 0.3435, 0.8018, 0.0378, 0.5088, 0.9264, 0.3189,\n",
      "        0.1080, 0.8899, 0.5384, 0.2655, 0.4484, 0.5292, 0.5962, 0.5973, 0.2889,\n",
      "        0.9380, 0.3564, 0.9995, 0.9741, 0.9333, 0.8810, 0.8279, 0.8924, 0.4188,\n",
      "        0.8346, 0.7926, 0.4684, 0.2128, 0.2165, 0.3427, 0.5207, 0.0228, 0.0330,\n",
      "        0.7184, 0.5951, 0.4433, 0.2293, 0.5829, 0.2508, 0.1528, 0.6604, 0.1241])\n",
      "Reshaped tensor into 10xwhatever: tensor([[0.5014, 0.3707, 0.9874, 0.9733, 0.2456, 0.3945, 0.1525, 0.0036, 0.1366],\n",
      "        [0.5780, 0.7238, 0.6569, 0.2954, 0.1903, 0.8468, 0.1359, 0.3250, 0.0348],\n",
      "        [0.2521, 0.9897, 0.8453, 0.4620, 0.4876, 0.2512, 0.5078, 0.0495, 0.8859],\n",
      "        [0.2423, 0.2748, 0.7475, 0.8575, 0.6595, 0.1758, 0.4125, 0.2497, 0.5093],\n",
      "        [0.7068, 0.3127, 0.2104, 0.0655, 0.5306, 0.9780, 0.1043, 0.0234, 0.1838],\n",
      "        [0.5133, 0.3568, 0.3392, 0.3435, 0.8018, 0.0378, 0.5088, 0.9264, 0.3189],\n",
      "        [0.1080, 0.8899, 0.5384, 0.2655, 0.4484, 0.5292, 0.5962, 0.5973, 0.2889],\n",
      "        [0.9380, 0.3564, 0.9995, 0.9741, 0.9333, 0.8810, 0.8279, 0.8924, 0.4188],\n",
      "        [0.8346, 0.7926, 0.4684, 0.2128, 0.2165, 0.3427, 0.5207, 0.0228, 0.0330],\n",
      "        [0.7184, 0.5951, 0.4433, 0.2293, 0.5829, 0.2508, 0.1528, 0.6604, 0.1241]])\n"
     ]
    }
   ],
   "source": [
    "# Reshaping\n",
    "\n",
    "# Let us reshape our 2D tensor\n",
    "print(\"Reshape to 3x30:\", tensor.reshape(3, 30))\n",
    "\n",
    "# Let us flatten our tensor into 1D tensor\n",
    "print(\"Flattened tensor:\", tensor.flatten())\n",
    "\n",
    "# Let is reshape int 10, whatever\n",
    "print(\"Reshaped tensor into 10xwhatever:\", tensor.reshape(10, -1))"
   ]
  },
  {
   "cell_type": "code",
   "execution_count": 14,
   "metadata": {},
   "outputs": [
    {
     "name": "stdout",
     "output_type": "stream",
     "text": [
      "Tensor shape: torch.Size([3, 2])\n",
      "Add an empty dimension to dim3: torch.Size([3, 2, 1])\n",
      "Add empty dim into dim2 of our tensor: torch.Size([3, 1, 2])\n"
     ]
    }
   ],
   "source": [
    "# Unsqueezing\n",
    "\n",
    "tensor = torch.rand(3, 2)\n",
    "\n",
    "# View tensor shape\n",
    "print(\"Tensor shape:\", tensor.shape)\n",
    "\n",
    "# Add empty dimension\n",
    "print(\"Add an empty dimension to dim3:\", tensor.unsqueeze(2).shape)\n",
    "\n",
    "# Add an empty dimention into our tensor\n",
    "print(\"Add empty dim into dim2 of our tensor:\", tensor.unsqueeze(1).shape)"
   ]
  },
  {
   "cell_type": "code",
   "execution_count": 15,
   "metadata": {},
   "outputs": [
    {
     "name": "stdout",
     "output_type": "stream",
     "text": [
      "Tensor shape: torch.Size([1, 3, 1, 2])\n",
      "Tensor with empty dimension dim3 removed: torch.Size([1, 3, 2])\n",
      "Tensor shape with empty dimension dim1 removed: torch.Size([3, 1, 2])\n",
      "Tensor with all empty dimensions removed: tensor([[0.8422, 0.9410],\n",
      "        [0.9707, 0.7819],\n",
      "        [0.5794, 0.1595]])\n"
     ]
    }
   ],
   "source": [
    "# Squeezing\n",
    "\n",
    "# Lets create a 4D tensor with some empty dimension\n",
    "tensor = torch.rand(1, 3, 1, 2)\n",
    "\n",
    "# View original tensor shape\n",
    "print(\"Tensor shape:\", tensor.shape)\n",
    "\n",
    "# Remove empty dimension at dim3\n",
    "print(\"Tensor with empty dimension dim3 removed:\", tensor.squeeze(2).shape)\n",
    "\n",
    "# Remove empty dimension at dim1\n",
    "print(\"Tensor shape with empty dimension dim1 removed:\", tensor.squeeze(0).shape)\n",
    "\n",
    "# Remove all empty dim from our tensor\n",
    "print(\"Tensor with all empty dimensions removed:\", tensor.squeeze())\n",
    "\n"
   ]
  },
  {
   "cell_type": "code",
   "execution_count": 16,
   "metadata": {},
   "outputs": [
    {
     "name": "stdout",
     "output_type": "stream",
     "text": [
      "Tensor 1 shape: torch.Size([1, 4, 3, 1])\n",
      "Tensor 2 shape: torch.Size([3, 4, 1, 4])\n",
      "Resulting tensor 3 shape torch.Size([3, 4, 3, 4])\n"
     ]
    }
   ],
   "source": [
    "# Broadcasting\n",
    "tensor_1 = torch.rand(1, 4, 3, 1)\n",
    "tensor_2 = torch.rand(3, 4, 1, 4)\n",
    "\n",
    "print(\"Tensor 1 shape:\", tensor_1.shape)\n",
    "print(\"Tensor 2 shape:\", tensor_2.shape)\n",
    "\n",
    "tensor_3 = tensor_1 + tensor_2\n",
    "\n",
    "print(\"Resulting tensor 3 shape\", tensor_3.shape)"
   ]
  }
 ],
 "metadata": {
  "kernelspec": {
   "display_name": "venv",
   "language": "python",
   "name": "python3"
  },
  "language_info": {
   "codemirror_mode": {
    "name": "ipython",
    "version": 3
   },
   "file_extension": ".py",
   "mimetype": "text/x-python",
   "name": "python",
   "nbconvert_exporter": "python",
   "pygments_lexer": "ipython3",
   "version": "3.10.12"
  }
 },
 "nbformat": 4,
 "nbformat_minor": 2
}
