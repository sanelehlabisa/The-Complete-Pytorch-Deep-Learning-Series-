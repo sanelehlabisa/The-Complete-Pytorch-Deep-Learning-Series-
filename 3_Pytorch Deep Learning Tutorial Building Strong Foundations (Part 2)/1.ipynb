{
 "cells": [
  {
   "cell_type": "code",
   "execution_count": 1,
   "metadata": {},
   "outputs": [],
   "source": [
    "# Pytorch Autograd\n",
    "\n",
    "import torch\n",
    "import torch.nn as nn\n",
    "import matplotlib.pyplot as plt\n",
    "import numpy as np"
   ]
  },
  {
   "cell_type": "code",
   "execution_count": null,
   "metadata": {},
   "outputs": [],
   "source": []
  },
  {
   "cell_type": "code",
   "execution_count": 2,
   "metadata": {},
   "outputs": [
    {
     "name": "stdout",
     "output_type": "stream",
     "text": [
      "dy/dx 2.0\n",
      "dy/dw 4.0\n",
      "dy/db 1.0\n"
     ]
    }
   ],
   "source": [
    "# Lets create some tensors, requires grad tells pytorch that we want to store the gradient for this tensor\n",
    "x = torch.FloatTensor([4])\n",
    "x.requires_grad = True\n",
    "w = torch.FloatTensor([2])\n",
    "w.requires_grad = True\n",
    "b = torch.FloatTensor([3])\n",
    "b.requires_grad = True\n",
    "\n",
    "# By performing a simple computation Pytorch will bui;d a computational graph\n",
    "y = w * x + b\n",
    "\n",
    "# It's easy to see that\n",
    "# dy/dx = w = 2\n",
    "# dy/dw = x = 4\n",
    "# dy/db = 1\n",
    "\n",
    "# Compute gradient via Pytorch Autograd\n",
    "y.backward()\n",
    "\n",
    "# Print calculated gradients\n",
    "print(\"dy/dx\", x.grad.item())\n",
    "print(\"dy/dw\", w.grad.item())\n",
    "print(\"dy/db\", b.grad.item())\n"
   ]
  },
  {
   "cell_type": "code",
   "execution_count": 3,
   "metadata": {},
   "outputs": [
    {
     "data": {
      "text/plain": [
       "[<matplotlib.lines.Line2D at 0x7575bc1d7070>]"
      ]
     },
     "execution_count": 3,
     "metadata": {},
     "output_type": "execute_result"
    },
    {
     "data": {
      "image/png": "[encoded data removed]",
      "text/plain": [
       "<Figure size 640x480 with 1 Axes>"
      ]
     },
     "metadata": {},
     "output_type": "display_data"
    }
   ],
   "source": [
    "# Finding minimum value of a function\n",
    "\n",
    "# Lets define an equation as a lambda function\n",
    "fx = lambda x: x ** 2 + 1.5 * x - 1\n",
    "\n",
    "x = np.linspace(-10, 8.5, 100)\n",
    "\n",
    "plt.plot(x, fx(x))"
   ]
  },
  {
   "cell_type": "code",
   "execution_count": 4,
   "metadata": {},
   "outputs": [
    {
     "name": "stdout",
     "output_type": "stream",
     "text": [
      "dy/dx is -4.68 when x is -3.09 \n"
     ]
    }
   ],
   "source": [
    "# Create a random point X\n",
    "x_ = torch.randn(1)\n",
    "x_.requires_grad = True\n",
    "\n",
    "# Lets use Pytorch Auograd to find the gradient at point x\n",
    "y_ = fx(x_)\n",
    "y_.backward()\n",
    "\n",
    "# The gradient tells us the direction to travel to increase Y\n",
    "dy_dx = x_.grad.item()\n",
    "print(\"dy/dx is %.2f when x is %.2f \" % (dy_dx, x_))"
   ]
  },
  {
   "cell_type": "code",
   "execution_count": 5,
   "metadata": {},
   "outputs": [
    {
     "name": "stdout",
     "output_type": "stream",
     "text": [
      "y minimum is -1.56 and is when x is -0.75, found after 48 steps\n"
     ]
    }
   ],
   "source": [
    "# Lets take some steps to decent the gradient\n",
    "\n",
    "#Create a random point x\n",
    "x = torch.randn(1)\n",
    "x.requires_grad = True\n",
    "\n",
    "# Create some loggers\n",
    "x_logger = []\n",
    "y_logger = []\n",
    "\n",
    "# We'll keep track of how may steps we've done\n",
    "counter = 0\n",
    "\n",
    "# Set a scale for the step size\n",
    "learning_rate = 0.1\n",
    "\n",
    "# Initialize the gradient to a large value\n",
    "dy_dx_ = 1000\n",
    "\n",
    "# We'll kimit max number of steps so we don't create infinite loop\n",
    "max_num_steps = 100\n",
    "\n",
    "# Keep taking steps until the gradient is small\n",
    "while np.abs(dy_dx_) > 0.0001:\n",
    "    # Get the Y point at the current x value\n",
    "    y_ = fx(x_)\n",
    "\n",
    "    # Calculate the gradient at this point\n",
    "    y_.backward()\n",
    "    dy_dx_ = x_.grad.item()\n",
    "\n",
    "    # Pytorch will not keep track of operations within a torch.no_grad() block\n",
    "    # We don't want Pytorch to add our gradient decent step to the computational graph\n",
    "    with torch.no_grad():\n",
    "        # Take a step down (decent) the curve\n",
    "        x_ -= learning_rate * dy_dx_\n",
    "\n",
    "        # Pytorch will accumulate the gradient over multiple backward passes\n",
    "        # For our use case we don;t want this to happpen so we need to set it to zero\n",
    "        # After we have used it\n",
    "        x_.grad.zero_()\n",
    "\n",
    "        # Log the x and y points to plot\n",
    "        x_logger.append(x_.item())\n",
    "        y_logger.append(y_.item())\n",
    "\n",
    "    counter += 1\n",
    "\n",
    "    if counter == max_num_steps:\n",
    "        break\n",
    "\n",
    "print(\"y minimum is %.2f and is when x is %.2f, found after %d steps\" % (y_.item(), x_.item(), counter))"
   ]
  },
  {
   "cell_type": "code",
   "execution_count": 6,
   "metadata": {},
   "outputs": [],
   "source": [
    "# Model and Optimizers\n",
    "\n",
    "class SimpleFunction(nn.Module):\n",
    "    \"\"\"\n",
    "    Simple implementation of an\n",
    "    \"\"\"\n",
    "    def __init__(self):\n",
    "        # Pass our class and self into super class and call super class's init function\n",
    "        super(SimpleFunction, self).__init__()\n",
    "\n",
    "    def forward(self, x):\n",
    "        return x * 4 + 2\n",
    "    "
   ]
  },
  {
   "cell_type": "code",
   "execution_count": 7,
   "metadata": {},
   "outputs": [
    {
     "name": "stdout",
     "output_type": "stream",
     "text": [
      "Class output: 42\n"
     ]
    }
   ],
   "source": [
    "# Create an instance of our class\n",
    "simple_function = SimpleFunction()\n",
    "\n",
    "# Perform a 'forward pass' of our class\n",
    "output = simple_function(10)\n",
    "print(\"Class output:\", output)\n",
    "\n",
    "# Note we do NOT need to explicity call the forward function of our class\n",
    "# A forward passof our models is such a common step that Pytorch makes it easier and cleaner for us to do\n"
   ]
  },
  {
   "cell_type": "code",
   "execution_count": 8,
   "metadata": {},
   "outputs": [],
   "source": [
    "# A more complicated model\n",
    "class LinearModel(nn.Module):\n",
    "    \"\"\"\n",
    "    Takes the input x and returns x * w ^ t + b\n",
    "    \"\"\"\n",
    "    def __init__(self, input_size, output_size):\n",
    "        # Pass our class and self to superclass and call superclass init function\n",
    "        super(LinearModel, self).__init__()\n",
    "        # nn.Parameter wraps our normal tensor and tells Pytorch that they are our nn.Module's model parameters to be optimized\n",
    "        self.w = nn.Parameter(torch.randn(output, input_size))\n",
    "        self.b = nn.Parameter(torch.randn(1, output_size))\n",
    "\n",
    "    def forward(self, x):\n",
    "        return torch.matmul(x, self.w.t()) + self.b\n"
   ]
  },
  {
   "cell_type": "code",
   "execution_count": 9,
   "metadata": {},
   "outputs": [
    {
     "name": "stdout",
     "output_type": "stream",
     "text": [
      "torch.Size([10, 5])\n",
      "torch.Size([10, 42])\n",
      "tensor([[-1.8466e-01,  4.4978e+00, -1.8328e+00,  1.6536e+00,  4.3726e+00,\n",
      "          3.4485e+00, -3.1878e+00, -6.3892e+00, -6.3563e+00,  4.2931e+00,\n",
      "          3.0448e+00,  3.6679e+00,  5.4385e-01, -2.5340e+00,  2.0184e+00,\n",
      "         -2.0580e+00, -2.3282e-01, -2.3508e+00, -4.9499e+00,  6.6937e+00,\n",
      "          2.0256e-01,  4.7093e+00, -2.6253e-01, -5.6749e-01, -4.2652e+00,\n",
      "         -4.2829e+00,  8.5099e-01,  1.5504e+00,  5.3551e+00, -4.5055e+00,\n",
      "          3.5122e-01, -4.6540e+00, -2.1369e-01, -6.1953e-01, -4.2583e+00,\n",
      "          1.4822e+00, -4.8269e+00,  4.1962e+00,  1.3213e+00,  1.2858e+00,\n",
      "         -4.8320e+00, -2.1570e+00],\n",
      "        [-1.6014e+00,  1.3689e+00,  1.9374e-01,  5.6927e+00, -2.1434e-01,\n",
      "          1.8909e+00,  8.0426e-01, -6.9961e-01, -7.8181e-01,  3.8778e+00,\n",
      "          2.2996e+00,  2.0001e+00,  1.1662e+00, -2.4205e+00,  1.6172e+00,\n",
      "         -3.6806e-01,  1.7288e+00,  1.1832e+00, -3.2498e+00,  1.2146e+00,\n",
      "          2.4334e+00, -9.2105e-01, -9.4392e-01, -4.5412e-01, -4.1898e-01,\n",
      "         -2.5278e+00,  3.4086e-01,  3.3480e-01,  2.7984e+00,  7.1504e-01,\n",
      "          1.6628e+00,  1.2369e+00,  1.3554e-01,  6.9081e-01,  1.3359e+00,\n",
      "          2.2188e-01, -2.5857e-01,  1.2168e+00,  1.0639e+00,  2.3419e+00,\n",
      "         -9.6998e-01, -1.6985e+00],\n",
      "        [-2.9055e+00, -2.0719e+00,  6.6505e-01,  4.5151e-01, -1.9810e-01,\n",
      "          1.6666e+00, -1.7937e+00,  6.1281e+00,  1.5532e+00,  6.0196e-01,\n",
      "          1.8662e-01,  1.1122e-01,  2.6358e-01,  1.6280e+00,  3.8737e-01,\n",
      "          3.0828e+00, -7.8785e-01, -1.2681e+00,  1.2833e+00,  4.7663e-01,\n",
      "         -2.9585e-01, -1.4995e+00, -4.1503e-01,  8.7415e-01, -7.4011e-01,\n",
      "          2.3617e+00,  5.2442e-01,  2.0949e+00, -3.9051e+00,  1.4321e+00,\n",
      "         -8.5025e-01,  2.3357e+00, -1.4219e+00, -3.1490e-01, -9.3182e-01,\n",
      "          1.8138e+00,  3.7152e-01,  5.8942e-01, -1.8046e+00,  2.8299e+00,\n",
      "          1.5778e+00,  4.6839e-02],\n",
      "        [ 7.4628e+00,  2.7551e+00,  2.1879e+00, -2.1851e+00, -1.8871e+00,\n",
      "         -4.4923e+00,  1.1211e+00, -8.2559e+00, -2.5663e+00, -3.9606e-02,\n",
      "         -9.7640e-01, -3.5973e+00, -1.8082e+00, -7.9366e-01, -2.0336e+00,\n",
      "         -5.9583e+00,  1.9392e-01,  3.9306e+00,  3.4332e+00, -3.5767e+00,\n",
      "          1.5835e-01, -1.2775e+00,  2.0580e+00, -2.0635e-01,  2.8794e+00,\n",
      "          1.0782e+00,  1.9770e+00, -1.2300e+00,  3.6509e+00, -1.4850e+00,\n",
      "          1.3110e+00, -3.1549e+00,  3.0622e+00,  7.4902e-01,  6.1761e+00,\n",
      "         -3.8928e+00, -9.2468e-01, -5.6715e-01,  1.9256e+00, -8.8329e+00,\n",
      "         -1.3069e+00, -5.6524e-01],\n",
      "        [ 1.6285e-01, -5.2032e-01, -5.2041e-01, -3.3093e+00,  4.1703e-01,\n",
      "         -1.6885e+00, -3.6888e+00,  3.2229e-01, -1.6346e+00, -1.9326e+00,\n",
      "         -2.3002e+00, -4.1034e-01, -2.1198e+00,  4.4740e-01, -9.9404e-01,\n",
      "         -6.9409e-01, -4.6174e+00, -5.7508e-01,  1.6970e+00,  1.9250e+00,\n",
      "         -3.2238e+00,  2.3804e+00,  9.3868e-03,  2.6350e+00, -3.7805e+00,\n",
      "          3.2664e+00,  1.4899e+00,  2.1283e+00, -1.8160e+00, -1.1363e+00,\n",
      "         -4.5222e+00, -1.6784e+00,  1.0113e+00, -2.7050e+00, -2.0698e+00,\n",
      "         -6.6082e-01, -1.9423e+00,  1.6519e+00, -2.5944e+00,  1.8071e-02,\n",
      "         -2.6732e+00,  1.4009e+00],\n",
      "        [-1.4131e+00, -6.4457e-01,  2.2629e-02,  2.5341e+00, -1.1746e+00,\n",
      "         -3.0145e-01,  6.5056e-01,  1.4825e+00,  1.0710e+00,  3.2372e-01,\n",
      "         -2.4697e-01,  6.1331e-01,  3.9695e-02, -1.0521e+00,  3.1228e-01,\n",
      "          2.7793e-01, -3.3247e-01,  1.2765e+00, -8.8712e-01, -2.3497e-01,\n",
      "          4.7838e-01, -6.5811e-01, -8.0859e-01,  7.8757e-01, -5.8606e-01,\n",
      "          1.5112e-01,  8.0397e-02,  1.4352e-01,  1.0182e-02,  1.5655e+00,\n",
      "         -7.4344e-01,  1.7807e+00,  5.7839e-01, -4.0676e-01,  9.3864e-01,\n",
      "         -5.3942e-01,  8.5884e-01, -1.2903e-03, -5.1703e-01,  1.9878e+00,\n",
      "         -3.3053e-01,  2.5671e-01],\n",
      "        [-2.2482e+00,  1.5030e-01, -9.2920e-01,  3.1205e+00,  6.0710e-01,\n",
      "          1.9390e+00,  1.7155e+00,  8.0351e-01,  9.6858e-01,  1.0876e+00,\n",
      "          1.3991e+00,  2.0927e+00,  1.5180e+00, -1.0270e+00,  1.3660e+00,\n",
      "          1.3521e+00,  1.8876e+00, -3.7750e-01, -3.0801e+00,  9.8831e-01,\n",
      "          1.5537e+00,  3.6645e-01, -8.7355e-01, -8.8532e-01,  1.1517e-01,\n",
      "         -2.7242e+00, -1.3032e+00, -8.5090e-01,  1.3219e+00,  7.7561e-01,\n",
      "          1.3435e+00,  1.3363e+00, -6.8916e-01,  7.2453e-01, -1.0763e+00,\n",
      "          1.0156e+00,  9.5805e-01, -1.9110e-01,  9.2153e-01,  3.2145e+00,\n",
      "          4.4748e-01, -3.2308e-01],\n",
      "        [-6.0769e-01,  2.3487e+00, -2.2946e+00,  3.2293e+00,  1.4197e+00,\n",
      "          6.8021e-01,  2.0655e+00, -4.9895e+00, -1.4808e+00,  7.7320e-01,\n",
      "          1.0546e+00,  3.1325e+00,  9.2686e-01, -3.3319e+00,  1.3737e+00,\n",
      "         -1.6126e+00,  1.1278e+00,  4.6553e-01, -5.4542e+00,  2.5227e+00,\n",
      "          1.1164e+00,  3.3102e+00, -1.0267e+00, -7.3221e-01, -1.5240e+00,\n",
      "         -4.9447e+00, -1.4147e+00, -1.8963e+00,  5.3344e+00, -9.9650e-01,\n",
      "          4.8860e-01, -1.2860e+00,  9.6171e-01, -1.0328e-01, -1.7332e+00,\n",
      "         -5.8406e-01, -3.6967e-01,  4.9089e-01,  1.8195e+00,  2.3032e+00,\n",
      "         -2.7863e+00, -1.4071e-01],\n",
      "        [ 1.3883e-01, -1.5171e+00, -8.9929e-01, -3.4347e+00, -2.3311e-01,\n",
      "         -2.1699e+00, -3.9891e-01,  1.0779e+00,  1.1877e+00, -3.8831e+00,\n",
      "         -2.6783e+00, -6.7334e-01, -1.2204e+00,  9.2240e-01, -1.1386e+00,\n",
      "          3.2116e-01, -2.5819e+00, -2.1872e-01,  1.4640e+00, -3.2085e-01,\n",
      "         -2.3839e+00,  1.7631e+00,  8.6918e-03,  1.4717e+00, -1.1755e+00,\n",
      "          2.0800e+00, -4.1487e-01, -2.6093e-01, -1.9414e+00,  2.1940e-01,\n",
      "         -3.0489e+00, -2.5900e-01,  7.1962e-01, -1.5575e+00, -1.5734e+00,\n",
      "         -7.9031e-01,  6.3764e-01, -7.9667e-01, -1.5642e+00,  1.7517e-01,\n",
      "         -3.7361e-01,  2.2691e+00],\n",
      "        [-1.4848e+00,  4.1082e-01,  5.6087e-01,  2.3775e+00,  9.2531e-02,\n",
      "          1.2825e+00, -2.4479e+00,  1.2683e+00, -1.5642e+00,  2.7618e+00,\n",
      "          9.4833e-01,  8.9294e-01, -2.1342e-01, -7.7144e-01,  7.3878e-01,\n",
      "          7.9383e-02, -1.2025e+00,  3.3489e-02, -5.3638e-01,  1.9947e+00,\n",
      "          1.4680e-01, -4.1377e-01, -5.2193e-01,  1.1019e+00, -2.2374e+00,\n",
      "          8.3683e-01,  1.6419e+00,  2.4156e+00, -1.8047e-01, -2.0058e-02,\n",
      "         -9.1259e-01,  3.7676e-01, -1.3028e-02, -7.5382e-01,  4.0937e-02,\n",
      "          5.4808e-01, -1.6095e+00,  2.2534e+00, -1.0076e+00,  1.7042e+00,\n",
      "         -1.5041e+00, -1.0418e+00]])\n"
     ]
    }
   ],
   "source": [
    "# Create a batch of 10 datapoints each 50\n",
    "input_data = torch.randn(10, 5)\n",
    "\n",
    "# Create an instance of our Model\n",
    "linear_model = LinearModel(5, 1)\n",
    "\n",
    "# Perform a foward pass!\n",
    "output = linear_model(input_data)\n",
    "\n",
    "print(input_data.shape)\n",
    "print(output.shape)\n",
    "print(output.detach())"
   ]
  },
  {
   "cell_type": "code",
   "execution_count": 10,
   "metadata": {},
   "outputs": [
    {
     "name": "stdout",
     "output_type": "stream",
     "text": [
      "w: tensor([[-0.0513,  0.0815, -0.5264]])\n",
      "w shape: torch.Size([1, 3])\n",
      "b: tensor([0.3669])\n",
      "b shape: torch.Size([1])\n"
     ]
    }
   ],
   "source": [
    "# Pytorch inbuilt Neural Network Layers\n",
    "\n",
    "# Build a linear layer aka 'fully connected' layer aka a 'Perceptron' layer\n",
    "# nn.Linear(Number of inputs, Number of outputs)\n",
    "linear = nn.Linear(3, 1)\n",
    "\n",
    "# Lets have a look at the parameters of this layer\n",
    "# The 'weights' are what is multiplied by the input data\n",
    "print(\"w:\", linear.weight.data)\n",
    "print(\"w shape:\", linear.weight.data.shape)\n",
    "\n",
    "# The bias is then added on\n",
    "print(\"b:\", linear.bias.data)\n",
    "print(\"b shape:\", linear.bias.data.shape)\n",
    "\n",
    "# Note: .data jist gives us the raw tensor without any connection to the computational graph\n",
    "#   It looks nicer when we print it out\n",
    "# Note: The operation the linear layer perfoms is y = x*S^t + b\n",
    "#   Where A^t is the transpose of the weights and b is the bias\n",
    "#   This operation is also known as 'affine transpose'1.ipynb"
   ]
  },
  {
   "cell_type": "code",
   "execution_count": 11,
   "metadata": {},
   "outputs": [
    {
     "name": "stdout",
     "output_type": "stream",
     "text": [
      "w grad: None\n",
      "b grad: None\n"
     ]
    }
   ],
   "source": [
    "# Lets have a look at the gradient of these parameters\n",
    "print(\"w grad:\", linear.weight.grad)\n",
    "print(\"b grad:\", linear.bias.grad)\n",
    "# Note: Pytorch initializes the grad of the tensor to None and not 0\n",
    "# They only get created after the first backward pass"
   ]
  },
  {
   "cell_type": "code",
   "execution_count": 12,
   "metadata": {},
   "outputs": [
    {
     "name": "stdout",
     "output_type": "stream",
     "text": [
      "Input data: tensor([[-1.5384,  0.9995, -0.2642],\n",
      "        [-1.6621,  1.9305, -0.8402],\n",
      "        [ 0.5815,  1.2864, -1.8542],\n",
      "        [ 0.8469, -0.2869,  0.4319],\n",
      "        [ 0.9838, -0.0259,  0.9189],\n",
      "        [ 1.3571,  1.8092, -0.5354],\n",
      "        [-0.9355,  0.9411, -0.9817],\n",
      "        [-0.0888, -0.3160,  0.7104],\n",
      "        [-0.1741,  0.9704,  1.1717],\n",
      "        [ 1.1561, -0.2831, -0.2728]])\n",
      "Output: tensor([[-0.8158],\n",
      "        [-0.5630],\n",
      "        [ 0.0303],\n",
      "        [ 0.9798],\n",
      "        [ 1.8769],\n",
      "        [ 2.6326],\n",
      "        [-0.9777],\n",
      "        [ 0.3038],\n",
      "        [ 1.9698],\n",
      "        [ 0.5935]])\n"
     ]
    }
   ],
   "source": [
    "# Create a random data input tensor\n",
    "data = torch.randn(100, 3)\n",
    "\n",
    "# Create some noisy target\n",
    "target = data.sum(1, keepdim=True) + 0.01 * torch.randn(data.shape[0], 1)\n",
    "print(\"Input data:\", data[:10])\n",
    "print(\"Output:\", target[:10])"
   ]
  },
  {
   "cell_type": "code",
   "execution_count": 13,
   "metadata": {},
   "outputs": [
    {
     "name": "stdout",
     "output_type": "stream",
     "text": [
      "Network output: tensor([[ 0.6663],\n",
      "        [ 1.0517],\n",
      "        [ 1.4180],\n",
      "        [ 0.0728],\n",
      "        [-0.1693],\n",
      "        [ 0.7266],\n",
      "        [ 1.0083],\n",
      "        [-0.0282],\n",
      "        [-0.1619],\n",
      "        [ 0.4282]])\n",
      "Network output shape: torch.Size([100, 1])\n"
     ]
    }
   ],
   "source": [
    "# Remeber! To perform a forward pass of our model, we just need to call our network\n",
    "# Pytorch's nn.Module class will automatically pass it to the 'forward' function in the layer class\n",
    "target_pred = linear(data)\n",
    "print(\"Network output:\", target_pred.data[:10])\n",
    "print(\"Network output shape:\", target_pred.data.shape)\n"
   ]
  },
  {
   "cell_type": "code",
   "execution_count": 14,
   "metadata": {},
   "outputs": [],
   "source": [
    "# Loss Function and Optimizer\n",
    "\n",
    "# Lets perform a reggression with a mean square error loss\n",
    "loss_function = nn.MSELoss()\n",
    "\n",
    "# Lets create a Stochastic gradient descent optimizer with a learning rate of 0.01\n",
    "# The way we will be using it is just normal GD\n",
    "# When we create the optimizer we need to tell it what it need to optimizem so the first thing is to pass the linear layer's parameters\n",
    "optimizer = torch.optim.SGD(linear.parameters(), lr=0.01)"
   ]
  },
  {
   "cell_type": "code",
   "execution_count": 15,
   "metadata": {},
   "outputs": [
    {
     "data": {
      "text/plain": [
       "Text(0, 0.5, 'Outputs')"
      ]
     },
     "execution_count": 15,
     "metadata": {},
     "output_type": "execute_result"
    },
    {
     "data": {
      "image/png": "[encoded data removed]",
      "text/plain": [
       "<Figure size 640x480 with 1 Axes>"
      ]
     },
     "metadata": {},
     "output_type": "display_data"
    }
   ],
   "source": [
    "# Plotting the first dimension of the input vs the output\n",
    "\n",
    "# Use the outputs of the model from a few cells ago\n",
    "plt.scatter(data[:,0], target_pred.detach())\n",
    "\n",
    "# Use ground truth data\n",
    "plt.scatter(data[:,0], target, marker='+')\n",
    "plt.legend([\"Predictions\", \"Ground Truth\"])\n",
    "plt.xlabel(\"Inputs\")\n",
    "plt.ylabel(\"Outputs\")"
   ]
  },
  {
   "cell_type": "code",
   "execution_count": 16,
   "metadata": {},
   "outputs": [
    {
     "name": "stdout",
     "output_type": "stream",
     "text": [
      "loss: 4.7669572830200195\n"
     ]
    }
   ],
   "source": [
    "loss = loss_function(target_pred, target)\n",
    "print(\"loss:\", loss.item())"
   ]
  },
  {
   "cell_type": "code",
   "execution_count": 17,
   "metadata": {},
   "outputs": [
    {
     "name": "stdout",
     "output_type": "stream",
     "text": [
      "dL/dw: tensor([[-2.6629, -2.1363, -2.8397]])\n",
      "dL/db: tensor([1.1985])\n"
     ]
    }
   ],
   "source": [
    "# Backward pass\n",
    "loss.backward()\n",
    "\n",
    "# Print out the gradient\n",
    "print(\"dL/dw:\", linear.weight.grad)\n",
    "print(\"dL/db:\", linear.bias.grad)\n",
    "\n",
    "# Note for every backwards pass of the model we must first perform a forward pass\n",
    "# As data from parts of the computational graph have been deleted upon the backward pass to save memory\n",
    "# We can tell Pytorch to hold this data but in many cases it needs to be recalculated anyway"
   ]
  },
  {
   "cell_type": "code",
   "execution_count": 18,
   "metadata": {},
   "outputs": [
    {
     "name": "stdout",
     "output_type": "stream",
     "text": [
      "loss after 1 step optimizer: 4.557801723480225\n"
     ]
    }
   ],
   "source": [
    "# The critical step to update the parameter which reduce the loss\n",
    "optimizer.step()\n",
    "\n",
    "# Perform another forward pass of the model to check the new loss\n",
    "target_pred = linear(data)\n",
    "loss = loss_function(target_pred, target)\n",
    "print(\"loss after 1 step optimizer:\", loss.item())"
   ]
  },
  {
   "cell_type": "code",
   "execution_count": 19,
   "metadata": {},
   "outputs": [
    {
     "name": "stdout",
     "output_type": "stream",
     "text": [
      "loss: 9.354170470032841e-05\n"
     ]
    }
   ],
   "source": [
    "# Training loop\n",
    "\n",
    "# Lets create an empty list to log the losses\n",
    "loss_logger = []\n",
    "\n",
    "# Lets perform 100 iterations of our dataset\n",
    "for i in range(1000):\n",
    "    # Perform a foward pass of our data\n",
    "    target_pred = linear(data)\n",
    "\n",
    "    # Calculate the loss\n",
    "    loss = loss_function(target_pred, target)\n",
    "\n",
    "    # .zero_grad sets the stored gradients to 0\n",
    "    # If we didn't do this they would be add to the Gradients from previous steps\n",
    "    optimizer.zero_grad()\n",
    "\n",
    "    # Calculate the new gradients\n",
    "    loss.backward()\n",
    "\n",
    "    # Perform an optimization step\n",
    "    optimizer.step()\n",
    "\n",
    "    loss_logger.append(loss.item())\n",
    "\n",
    "print(\"loss:\", loss.item())"
   ]
  },
  {
   "cell_type": "code",
   "execution_count": 20,
   "metadata": {},
   "outputs": [
    {
     "data": {
      "text/plain": [
       "[<matplotlib.lines.Line2D at 0x7574e7298250>]"
      ]
     },
     "execution_count": 20,
     "metadata": {},
     "output_type": "execute_result"
    },
    {
     "data": {
      "image/png": "[encoded data removed]",
      "text/plain": [
       "<Figure size 640x480 with 1 Axes>"
      ]
     },
     "metadata": {},
     "output_type": "display_data"
    }
   ],
   "source": [
    "# Lets graph the loss\n",
    "plt.plot(loss_logger)"
   ]
  },
  {
   "cell_type": "code",
   "execution_count": 21,
   "metadata": {},
   "outputs": [
    {
     "data": {
      "text/plain": [
       "Text(0, 0.5, 'Outputs')"
      ]
     },
     "execution_count": 21,
     "metadata": {},
     "output_type": "execute_result"
    },
    {
     "data": {
      "image/png": "[encoded data removed]",
      "text/plain": [
       "<Figure size 640x480 with 1 Axes>"
      ]
     },
     "metadata": {},
     "output_type": "display_data"
    }
   ],
   "source": [
    "# Plotting the first dimension of the input vs the output\n",
    "plt.scatter(data[:,0], target_pred.detach())\n",
    "plt.scatter(data[:,0], target, marker=\"+\")\n",
    "plt.legend([\"Predictions\", \"Ground truth\"])\n",
    "plt.xlabel(\"Inputs\")\n",
    "plt.ylabel(\"Outputs\")"
   ]
  }
 ],
 "metadata": {
  "kernelspec": {
   "display_name": "venv",
   "language": "python",
   "name": "python3"
  },
  "language_info": {
   "codemirror_mode": {
    "name": "ipython",
    "version": 3
   },
   "file_extension": ".py",
   "mimetype": "text/x-python",
   "name": "python",
   "nbconvert_exporter": "python",
   "pygments_lexer": "ipython3",
   "version": "3.10.12"
  }
 },
 "nbformat": 4,
 "nbformat_minor": 2
}
