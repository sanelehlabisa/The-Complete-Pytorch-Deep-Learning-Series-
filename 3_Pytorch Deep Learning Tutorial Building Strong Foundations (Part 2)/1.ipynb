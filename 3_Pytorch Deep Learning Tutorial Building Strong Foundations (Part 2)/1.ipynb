{
 "cells": [
  {
   "cell_type": "code",
   "execution_count": 222,
   "metadata": {},
   "outputs": [],
   "source": [
    "# Pytorch Autograd\n",
    "\n",
    "import torch\n",
    "import torch.nn as nn\n",
    "import matplotlib.pyplot as plt\n",
    "import numpy as np"
   ]
  },
  {
   "cell_type": "code",
   "execution_count": null,
   "metadata": {},
   "outputs": [],
   "source": []
  },
  {
   "cell_type": "code",
   "execution_count": 223,
   "metadata": {},
   "outputs": [
    {
     "name": "stdout",
     "output_type": "stream",
     "text": [
      "dy/dx 2.0\n",
      "dy/dw 4.0\n",
      "dy/db 1.0\n"
     ]
    }
   ],
   "source": [
    "# Lets create some tensors, requires grad tells pytorch that we want to store the gradient for this tensor\n",
    "x = torch.FloatTensor([4])\n",
    "x.requires_grad = True\n",
    "w = torch.FloatTensor([2])\n",
    "w.requires_grad = True\n",
    "b = torch.FloatTensor([3])\n",
    "b.requires_grad = True\n",
    "\n",
    "# By performing a simple computation Pytorch will bui;d a computational graph\n",
    "y = w * x + b\n",
    "\n",
    "# It's easy to see that\n",
    "# dy/dx = w = 2\n",
    "# dy/dw = x = 4\n",
    "# dy/db = 1\n",
    "\n",
    "# Compute gradient via Pytorch Autograd\n",
    "y.backward()\n",
    "\n",
    "# Print calculated gradients\n",
    "print(\"dy/dx\", x.grad.item())\n",
    "print(\"dy/dw\", w.grad.item())\n",
    "print(\"dy/db\", b.grad.item())\n"
   ]
  },
  {
   "cell_type": "code",
   "execution_count": 224,
   "metadata": {},
   "outputs": [
    {
     "data": {
      "text/plain": [
       "[<matplotlib.lines.Line2D at 0x18481d32f90>]"
      ]
     },
     "execution_count": 224,
     "metadata": {},
     "output_type": "execute_result"
    },
    {
     "data": {
      "image/png": "[encoded data removed]",
      "text/plain": [
       "<Figure size 640x480 with 1 Axes>"
      ]
     },
     "metadata": {},
     "output_type": "display_data"
    }
   ],
   "source": [
    "# Finding minimum value of a function\n",
    "\n",
    "# Lets define an equation as a lambda function\n",
    "fx = lambda x: x ** 2 + 1.5 * x - 1\n",
    "\n",
    "x = np.linspace(-10, 8.5, 100)\n",
    "\n",
    "plt.plot(x, fx(x))"
   ]
  },
  {
   "cell_type": "code",
   "execution_count": 225,
   "metadata": {},
   "outputs": [
    {
     "name": "stdout",
     "output_type": "stream",
     "text": [
      "dy/dx is -1.39 when x is -1.44 \n"
     ]
    }
   ],
   "source": [
    "# Create a random point X\n",
    "x_ = torch.randn(1)\n",
    "x_.requires_grad = True\n",
    "\n",
    "# Lets use Pytorch Auograd to find the gradient at point x\n",
    "y_ = fx(x_)\n",
    "y_.backward()\n",
    "\n",
    "# The gradient tells us the direction to travel to increase Y\n",
    "dy_dx = x_.grad.item()\n",
    "print(\"dy/dx is %.2f when x is %.2f \" % (dy_dx, x_))"
   ]
  },
  {
   "cell_type": "code",
   "execution_count": 226,
   "metadata": {},
   "outputs": [
    {
     "name": "stdout",
     "output_type": "stream",
     "text": [
      "y minimum is -1.56 and is when x is -0.75, found after 43 steps\n"
     ]
    }
   ],
   "source": [
    "# Lets take some steps to decent the gradient\n",
    "\n",
    "#Create a random point x\n",
    "x = torch.randn(1)\n",
    "x.requires_grad = True\n",
    "\n",
    "# Create some loggers\n",
    "x_logger = []\n",
    "y_logger = []\n",
    "\n",
    "# We'll keep track of how may steps we've done\n",
    "counter = 0\n",
    "\n",
    "# Set a scale for the step size\n",
    "learning_rate = 0.1\n",
    "\n",
    "# Initialize the gradient to a large value\n",
    "dy_dx_ = 1000\n",
    "\n",
    "# We'll kimit max number of steps so we don't create infinite loop\n",
    "max_num_steps = 100\n",
    "\n",
    "# Keep taking steps until the gradient is small\n",
    "while np.abs(dy_dx_) > 0.0001:\n",
    "    # Get the Y point at the current x value\n",
    "    y_ = fx(x_)\n",
    "\n",
    "    # Calculate the gradient at this point\n",
    "    y_.backward()\n",
    "    dy_dx_ = x_.grad.item()\n",
    "\n",
    "    # Pytorch will not keep track of operations within a torch.no_grad() block\n",
    "    # We don't want Pytorch to add our gradient decent step to the computational graph\n",
    "    with torch.no_grad():\n",
    "        # Take a step down (decent) the curve\n",
    "        x_ -= learning_rate * dy_dx_\n",
    "\n",
    "        # Pytorch will accumulate the gradient over multiple backward passes\n",
    "        # For our use case we don;t want this to happpen so we need to set it to zero\n",
    "        # After we have used it\n",
    "        x_.grad.zero_()\n",
    "\n",
    "        # Log the x and y points to plot\n",
    "        x_logger.append(x_.item())\n",
    "        y_logger.append(y_.item())\n",
    "\n",
    "    counter += 1\n",
    "\n",
    "    if counter == max_num_steps:\n",
    "        break\n",
    "\n",
    "print(\"y minimum is %.2f and is when x is %.2f, found after %d steps\" % (y_.item(), x_.item(), counter))"
   ]
  },
  {
   "cell_type": "code",
   "execution_count": 227,
   "metadata": {},
   "outputs": [],
   "source": [
    "# Model and Optimizers\n",
    "\n",
    "class SimpleFunction(nn.Module):\n",
    "    \"\"\"\n",
    "    Simple implementation of an\n",
    "    \"\"\"\n",
    "    def __init__(self):\n",
    "        # Pass our class and self into super class and call super class's init function\n",
    "        super(SimpleFunction, self).__init__()\n",
    "\n",
    "    def forward(self, x):\n",
    "        return x * 4 + 2\n",
    "    "
   ]
  },
  {
   "cell_type": "code",
   "execution_count": 228,
   "metadata": {},
   "outputs": [
    {
     "name": "stdout",
     "output_type": "stream",
     "text": [
      "Class output: 42\n"
     ]
    }
   ],
   "source": [
    "# Create an instance of our class\n",
    "simple_function = SimpleFunction()\n",
    "\n",
    "# Perform a 'forward pass' of our class\n",
    "output = simple_function(10)\n",
    "print(\"Class output:\", output)\n",
    "\n",
    "# Note we do NOT need to explicity call the forward function of our class\n",
    "# A forward passof our models is such a common step that Pytorch makes it easier and cleaner for us to do\n"
   ]
  },
  {
   "cell_type": "code",
   "execution_count": 229,
   "metadata": {},
   "outputs": [],
   "source": [
    "# A more complicated model\n",
    "class LinearModel(nn.Module):\n",
    "    \"\"\"\n",
    "    Takes the input x and returns x * w ^ t + b\n",
    "    \"\"\"\n",
    "    def __init__(self, input_size, output_size):\n",
    "        # Pass our class and self to superclass and call superclass init function\n",
    "        super(LinearModel, self).__init__()\n",
    "        # nn.Parameter wraps our normal tensor and tells Pytorch that they are our nn.Module's model parameters to be optimized\n",
    "        self.w = nn.Parameter(torch.randn(output, input_size))\n",
    "        self.b = nn.Parameter(torch.randn(1, output_size))\n",
    "\n",
    "    def forward(self, x):\n",
    "        return torch.matmul(x, self.w.t()) + self.b\n"
   ]
  },
  {
   "cell_type": "code",
   "execution_count": 230,
   "metadata": {},
   "outputs": [
    {
     "name": "stdout",
     "output_type": "stream",
     "text": [
      "torch.Size([10, 5])\n",
      "torch.Size([10, 42])\n",
      "tensor([[-1.1578e+00, -1.9871e+00, -1.1574e+00, -3.1666e+00, -1.6527e+00,\n",
      "          2.0281e+00, -2.8407e-02, -1.6718e+00, -2.3109e-01,  1.5690e+00,\n",
      "         -2.3791e+00, -1.7603e+00, -2.3387e+00, -2.9389e+00, -8.4891e-01,\n",
      "         -2.8859e+00,  1.9395e-02, -2.7078e+00, -2.2205e+00, -2.9394e+00,\n",
      "         -2.0638e+00, -1.2516e+00, -4.7263e-01, -4.3304e+00, -4.0711e+00,\n",
      "         -9.3650e-01,  3.9105e+00, -8.2905e-01, -1.7154e+00, -2.8569e+00,\n",
      "          2.2479e+00, -1.6811e+00, -1.3552e+00, -4.7360e-01, -2.2836e+00,\n",
      "         -2.1839e+00,  9.6105e-01, -1.8441e+00, -1.7692e+00,  7.6555e-01,\n",
      "         -1.0211e+00, -9.6051e-01],\n",
      "        [-2.8735e+00, -2.3340e+00, -5.6067e+00,  4.0181e+00, -2.5649e+00,\n",
      "         -3.5735e+00, -1.7992e+00, -1.0975e+00, -2.7058e+00, -5.2638e+00,\n",
      "          1.1081e+00, -5.3024e-01,  7.0224e-01,  5.6011e-01, -1.1635e+00,\n",
      "         -1.0070e-01, -7.4685e+00,  2.2239e-01, -2.8680e+00,  2.4616e+00,\n",
      "          2.5840e+00, -2.9778e+00, -1.4086e+00,  1.9304e+00,  5.4672e+00,\n",
      "         -1.9519e+00, -7.5432e+00, -2.2058e+00,  8.5324e-01,  3.5705e+00,\n",
      "         -7.6607e+00, -3.9244e+00, -2.7150e+00, -3.0556e+00, -2.8060e+00,\n",
      "          3.5429e-01, -6.9323e+00,  1.0364e+00,  1.4224e+00, -3.6980e+00,\n",
      "         -1.2565e+00, -4.8142e+00],\n",
      "        [-3.5246e+00, -3.2645e+00, -2.6135e+00, -2.7631e+00, -1.3775e+00,\n",
      "          4.8169e+00, -9.5904e-01, -3.2679e+00, -3.2121e-01, -4.7835e-01,\n",
      "         -2.9602e+00, -1.9549e+00, -4.2581e-01, -2.8498e+00,  1.4763e+00,\n",
      "         -5.8195e+00, -3.4515e+00, -2.2159e+00, -1.9281e+00, -4.9427e+00,\n",
      "         -1.4480e+00, -1.7276e+00,  5.7128e-01, -7.5335e+00, -6.6477e+00,\n",
      "          1.1228e+00,  7.4510e+00, -1.7074e+00, -3.6114e+00, -2.1875e+00,\n",
      "          5.9825e+00, -5.7822e+00, -2.6314e+00, -6.8845e-01, -5.0240e+00,\n",
      "         -6.0211e-01,  2.2348e+00, -1.7437e+00,  6.8115e-01, -2.6568e-02,\n",
      "         -1.4184e+00,  9.4047e-02],\n",
      "        [-3.8957e+00, -5.7161e+00, -5.6615e+00,  1.6686e+00, -2.7214e+00,\n",
      "          3.4108e+00, -1.1989e+00, -2.2619e+00, -2.4169e-01, -2.1053e+00,\n",
      "         -6.4842e-02,  3.1848e-01,  1.4283e+00, -1.6937e+00, -1.1771e+00,\n",
      "         -4.6180e+00, -6.9953e+00, -4.2979e-01, -2.8700e+00,  1.5387e-01,\n",
      "         -3.6469e-01, -4.0189e+00, -2.7093e+00, -2.8458e+00,  1.5741e+00,\n",
      "          2.7988e+00,  1.5817e+00, -1.7777e-01, -2.1035e-01,  4.3542e+00,\n",
      "          1.8564e+00, -4.2413e+00, -2.4035e+00, -3.2655e+00, -5.2805e+00,\n",
      "         -3.5277e+00, -3.7485e+00, -6.6065e-01,  1.9930e+00,  6.7922e-01,\n",
      "         -1.7159e+00, -5.2175e+00],\n",
      "        [-6.6505e-01, -3.4166e-01, -3.6156e-01, -1.1156e+00, -8.4044e-01,\n",
      "         -3.1570e+00, -1.6584e+00, -8.1091e-01, -1.6150e+00, -1.8590e+00,\n",
      "         -9.5377e-01, -1.1398e+00, -1.3047e+00, -6.0002e-01, -1.7038e+00,\n",
      "         -3.3175e-02, -4.1669e-01, -8.0060e-01, -5.2619e-01, -6.8675e-01,\n",
      "         -1.3808e+00, -8.1427e-01, -1.6117e+00,  3.5487e-01, -4.9855e-01,\n",
      "         -1.7927e+00, -3.5929e+00, -1.2970e+00, -1.0873e+00, -1.4137e+00,\n",
      "         -2.8271e+00, -8.6910e-02, -8.0587e-01, -1.2631e+00, -7.3586e-03,\n",
      "         -9.9452e-01, -1.6640e+00, -1.2482e+00, -1.7607e+00, -1.9579e+00,\n",
      "         -1.2644e+00, -8.6074e-01],\n",
      "        [-2.5740e-01, -1.8806e-01,  1.7420e+00, -2.0028e+00, -1.0241e+00,\n",
      "         -4.4025e+00, -3.8523e+00, -3.8560e+00, -2.1663e+00, -2.9506e+00,\n",
      "         -6.3769e-01, -6.4304e-01,  2.1485e-01,  1.2457e+00, -1.2221e+00,\n",
      "         -6.2885e-01, -1.3033e+00,  1.8100e-01,  5.3744e-01, -1.8579e+00,\n",
      "         -5.1950e-01,  1.2145e+00, -4.4851e-03, -1.4459e+00, -3.6689e+00,\n",
      "         -1.6958e+00, -2.2986e+00, -1.8618e+00, -2.4321e+00, -3.1500e+00,\n",
      "         -1.6329e+00, -1.5647e+00, -5.3811e-01, -2.5854e+00,  3.4216e-01,\n",
      "          1.5278e+00, -6.6299e-01, -2.7650e+00, -3.6897e+00, -2.0778e+00,\n",
      "         -4.8120e-01,  1.9203e-03],\n",
      "        [-6.5435e-01, -2.4344e+00,  1.9641e+00, -4.0476e+00, -4.5603e-01,\n",
      "          9.4788e-01, -2.5540e+00, -2.7697e+00,  2.2878e-01,  2.6891e-01,\n",
      "         -1.7644e+00,  3.5618e-02, -9.4832e-02, -1.3198e+00, -2.1336e+00,\n",
      "         -3.3337e+00,  1.1590e+00, -5.2118e-01,  1.0117e+00, -3.0321e+00,\n",
      "         -4.4262e+00, -2.9808e-01, -2.7209e+00, -3.3357e+00, -5.2672e+00,\n",
      "          2.3861e+00,  3.4606e+00,  4.9637e-01, -2.6899e+00, -1.9064e+00,\n",
      "          5.6327e+00,  6.5579e-01,  3.0430e-01, -1.9826e+00, -6.1114e-01,\n",
      "         -3.5937e+00,  1.7909e+00, -3.7942e+00, -2.8912e+00,  1.6146e+00,\n",
      "         -1.4216e+00, -1.5508e-01],\n",
      "        [-2.1156e+00, -1.7355e+00, -2.6441e+00, -8.0635e-01, -1.8715e+00,\n",
      "         -3.9339e-02, -1.0469e+00, -2.1699e+00, -1.5052e+00, -1.5370e+00,\n",
      "         -1.4382e+00, -1.7366e+00, -1.0362e+00, -1.4021e+00, -2.0832e-02,\n",
      "         -2.2500e+00, -3.2933e+00, -1.6806e+00, -2.3553e+00, -1.9069e+00,\n",
      "          2.0383e-01, -1.3947e+00,  2.8267e-01, -3.1240e+00, -2.0674e+00,\n",
      "         -1.7233e+00,  4.9276e-01, -2.0500e+00, -1.5859e+00, -1.4974e+00,\n",
      "         -1.0746e+00, -3.8758e+00, -2.2471e+00, -1.2426e+00, -2.8492e+00,\n",
      "          2.3056e-01, -1.1915e+00, -8.2285e-01, -4.9874e-01, -1.5941e+00,\n",
      "         -9.7148e-01, -1.4422e+00],\n",
      "        [-2.4457e+00, -5.4302e-01, -3.2536e+00, -3.3178e-01, -5.6809e-01,\n",
      "         -5.8488e-01,  9.0962e-02,  9.2512e-01, -1.5367e+00, -2.0191e+00,\n",
      "         -1.9942e+00, -2.4296e+00, -2.1565e+00, -2.3737e+00, -2.7997e-02,\n",
      "         -1.0365e+00, -1.6442e+00, -1.9477e+00, -1.7721e+00, -1.4256e+00,\n",
      "         -1.1091e+00, -2.5976e+00, -1.2749e+00, -5.5917e-01,  1.7881e-02,\n",
      "         -1.9245e+00, -2.3858e+00, -2.0360e+00, -1.3135e+00, -6.9890e-01,\n",
      "         -2.4800e+00, -2.0798e+00, -2.2279e+00,  3.8388e-01, -2.1014e+00,\n",
      "         -1.0770e+00, -1.3495e+00,  4.8682e-01,  1.3810e+00, -3.0125e+00,\n",
      "         -2.0011e+00, -3.3490e-01],\n",
      "        [-8.4868e-01, -4.7411e+00,  7.1272e-01, -1.0825e+00, -2.0439e+00,\n",
      "         -5.0791e-01, -4.4032e+00, -4.8140e+00, -7.2747e-02, -1.7214e+00,\n",
      "          8.3960e-01,  2.2701e+00,  2.7328e+00,  9.6875e-01, -3.6965e+00,\n",
      "         -3.3219e+00, -3.0802e+00,  1.5515e+00,  6.3489e-01,  3.1663e-02,\n",
      "         -2.4862e+00, -6.3232e-01, -3.7313e+00, -1.7309e+00, -1.3786e+00,\n",
      "          3.8904e+00,  6.7871e-01,  1.2307e+00, -9.9366e-01,  2.0797e+00,\n",
      "          3.6288e+00, -7.0262e-03,  4.5629e-01, -5.2869e+00, -1.1350e+00,\n",
      "         -3.8034e+00, -2.2847e+00, -4.1322e+00, -3.2816e+00,  2.3881e+00,\n",
      "         -9.0570e-01, -4.1437e+00]])\n"
     ]
    }
   ],
   "source": [
    "# Create a batch of 10 datapoints each 50\n",
    "input_data = torch.randn(10, 5)\n",
    "\n",
    "# Create an instance of our Model\n",
    "linear_model = LinearModel(5, 1)\n",
    "\n",
    "# Perform a foward pass!\n",
    "output = linear_model(input_data)\n",
    "\n",
    "print(input_data.shape)\n",
    "print(output.shape)\n",
    "print(output.detach())"
   ]
  },
  {
   "cell_type": "code",
   "execution_count": 231,
   "metadata": {},
   "outputs": [
    {
     "name": "stdout",
     "output_type": "stream",
     "text": [
      "w: tensor([[ 0.5011, -0.1797,  0.0813]])\n",
      "w shape: torch.Size([1, 3])\n",
      "b: tensor([0.1183])\n",
      "b shape: torch.Size([1])\n"
     ]
    }
   ],
   "source": [
    "# Pytorch inbuilt Neural Network Layers\n",
    "\n",
    "# Build a linear layer aka 'fully connected' layer aka a 'Perceptron' layer\n",
    "# nn.Linear(Number of inputs, Number of outputs)\n",
    "linear = nn.Linear(3, 1)\n",
    "\n",
    "# Lets have a look at the parameters of this layer\n",
    "# The 'weights' are what is multiplied by the input data\n",
    "print(\"w:\", linear.weight.data)\n",
    "print(\"w shape:\", linear.weight.data.shape)\n",
    "\n",
    "# The bias is then added on\n",
    "print(\"b:\", linear.bias.data)\n",
    "print(\"b shape:\", linear.bias.data.shape)\n",
    "\n",
    "# Note: .data jist gives us the raw tensor without any connection to the computational graph\n",
    "#   It looks nicer when we print it out\n",
    "# Note: The operation the linear layer perfoms is y = x*S^t + b\n",
    "#   Where A^t is the transpose of the weights and b is the bias\n",
    "#   This operation is also known as 'affine transpose'1.ipynb"
   ]
  },
  {
   "cell_type": "code",
   "execution_count": 232,
   "metadata": {},
   "outputs": [
    {
     "name": "stdout",
     "output_type": "stream",
     "text": [
      "w grad: None\n",
      "b grad: None\n"
     ]
    }
   ],
   "source": [
    "# Lets have a look at the gradient of these parameters\n",
    "print(\"w grad:\", linear.weight.grad)\n",
    "print(\"b grad:\", linear.bias.grad)\n",
    "# Note: Pytorch initializes the grad of the tensor to None and not 0\n",
    "# They only get created after the first backward pass"
   ]
  },
  {
   "cell_type": "code",
   "execution_count": 233,
   "metadata": {},
   "outputs": [
    {
     "name": "stdout",
     "output_type": "stream",
     "text": [
      "Input data: tensor([[ 1.2249, -2.6706,  1.5788],\n",
      "        [ 1.2026, -0.5438, -0.7685],\n",
      "        [ 2.5211,  1.4738,  1.6794],\n",
      "        [ 0.7343,  0.1262, -0.8847],\n",
      "        [ 1.3350, -1.1994,  0.1837],\n",
      "        [-0.9936, -0.7579, -0.7000],\n",
      "        [-2.3605,  0.3177, -0.1399],\n",
      "        [ 1.7992,  0.7961, -0.2439],\n",
      "        [ 1.6099, -1.1216, -0.8644],\n",
      "        [ 0.7323, -0.6875,  0.0817]])\n",
      "Output: tensor([[ 0.1277],\n",
      "        [-0.1222],\n",
      "        [ 5.6861],\n",
      "        [-0.0217],\n",
      "        [ 0.3287],\n",
      "        [-2.4553],\n",
      "        [-2.1916],\n",
      "        [ 2.3572],\n",
      "        [-0.3740],\n",
      "        [ 0.1327]])\n"
     ]
    }
   ],
   "source": [
    "# Create a random data input tensor\n",
    "data = torch.randn(100, 3)\n",
    "\n",
    "# Create some noisy target\n",
    "target = data.sum(1, keepdim=True) + 0.01 * torch.randn(data.shape[0], 1)\n",
    "print(\"Input data:\", data[:10])\n",
    "print(\"Output:\", target[:10])"
   ]
  },
  {
   "cell_type": "code",
   "execution_count": 234,
   "metadata": {},
   "outputs": [
    {
     "name": "stdout",
     "output_type": "stream",
     "text": [
      "Network output: tensor([[ 1.3404],\n",
      "        [ 0.7562],\n",
      "        [ 1.2535],\n",
      "        [ 0.3916],\n",
      "        [ 1.0177],\n",
      "        [-0.3004],\n",
      "        [-1.1332],\n",
      "        [ 0.8571],\n",
      "        [ 1.0562],\n",
      "        [ 0.6154]])\n",
      "Network output shape: torch.Size([100, 1])\n"
     ]
    }
   ],
   "source": [
    "# Remeber! To perform a forward pass of our model, we just need to call our network\n",
    "# Pytorch's nn.Module class will automatically pass it to the 'forward' function in the layer class\n",
    "target_pred = linear(data)\n",
    "print(\"Network output:\", target_pred.data[:10])\n",
    "print(\"Network output shape:\", target_pred.data.shape)\n"
   ]
  },
  {
   "cell_type": "code",
   "execution_count": 235,
   "metadata": {},
   "outputs": [],
   "source": [
    "# Loss Function and Optimizer\n",
    "\n",
    "# Lets perform a reggression with a mean square error loss\n",
    "loss_function = nn.MSELoss()\n",
    "\n",
    "# Lets create a Stochastic gradient descent optimizer with a learning rate of 0.01\n",
    "# The way we will be using it is just normal GD\n",
    "# When we create the optimizer we need to tell it what it need to optimizem so the first thing is to pass the linear layer's parameters\n",
    "optimizer = torch.optim.SGD(linear.parameters(), lr=0.01)"
   ]
  },
  {
   "cell_type": "code",
   "execution_count": 236,
   "metadata": {},
   "outputs": [
    {
     "data": {
      "text/plain": [
       "Text(0, 0.5, 'Outputs')"
      ]
     },
     "execution_count": 236,
     "metadata": {},
     "output_type": "execute_result"
    },
    {
     "data": {
      "image/png": "[encoded data removed]",
      "text/plain": [
       "<Figure size 640x480 with 1 Axes>"
      ]
     },
     "metadata": {},
     "output_type": "display_data"
    }
   ],
   "source": [
    "# Plotting the first dimension of the input vs the output\n",
    "\n",
    "# Use the outputs of the model from a few cells ago\n",
    "plt.scatter(data[:,0], target_pred.detach())\n",
    "\n",
    "# Use ground truth data\n",
    "plt.scatter(data[:,0], target, marker='+')\n",
    "plt.legend([\"Predictions\", \"Ground Truth\"])\n",
    "plt.xlabel(\"Inputs\")\n",
    "plt.ylabel(\"Outputs\")"
   ]
  },
  {
   "cell_type": "code",
   "execution_count": 237,
   "metadata": {},
   "outputs": [
    {
     "name": "stdout",
     "output_type": "stream",
     "text": [
      "loss: 2.3682165145874023\n"
     ]
    }
   ],
   "source": [
    "loss = loss_function(target_pred, target)\n",
    "print(\"loss:\", loss.item())"
   ]
  },
  {
   "cell_type": "code",
   "execution_count": 238,
   "metadata": {},
   "outputs": [
    {
     "name": "stdout",
     "output_type": "stream",
     "text": [
      "dL/dw: tensor([[-0.9162, -2.4629, -1.4642]])\n",
      "dL/db: tensor([0.2271])\n"
     ]
    }
   ],
   "source": [
    "# Backward pass\n",
    "loss.backward()\n",
    "\n",
    "# Print out the gradient\n",
    "print(\"dL/dw:\", linear.weight.grad)\n",
    "print(\"dL/db:\", linear.bias.grad)\n",
    "\n",
    "# Note for every backwards pass of the model we must first perform a forward pass\n",
    "# As data from parts of the computational graph have been deleted upon the backward pass to save memory\n",
    "# We can tell Pytorch to hold this data but in many cases it needs to be recalculated anyway"
   ]
  },
  {
   "cell_type": "code",
   "execution_count": 239,
   "metadata": {},
   "outputs": [
    {
     "name": "stdout",
     "output_type": "stream",
     "text": [
      "loss after 1 step optimizer: 2.278095006942749\n"
     ]
    }
   ],
   "source": [
    "# The critical step to update the parameter which reduce the loss\n",
    "optimizer.step()\n",
    "\n",
    "# Perform another forward pass of the model to check the new loss\n",
    "target_pred = linear(data)\n",
    "loss = loss_function(target_pred, target)\n",
    "print(\"loss after 1 step optimizer:\", loss.item())"
   ]
  },
  {
   "cell_type": "code",
   "execution_count": 240,
   "metadata": {},
   "outputs": [
    {
     "name": "stdout",
     "output_type": "stream",
     "text": [
      "loss: 7.316730625461787e-05\n"
     ]
    }
   ],
   "source": [
    "# Training loop\n",
    "\n",
    "# Lets create an empty list to log the losses\n",
    "loss_logger = []\n",
    "\n",
    "# Lets perform 100 iterations of our dataset\n",
    "for i in range(1000):\n",
    "    # Perform a foward pass of our data\n",
    "    target_pred = linear(data)\n",
    "\n",
    "    # Calculate the loss\n",
    "    loss = loss_function(target_pred, target)\n",
    "\n",
    "    # .zero_grad sets the stored gradients to 0\n",
    "    # If we didn't do this they would be add to the Gradients from previous steps\n",
    "    optimizer.zero_grad()\n",
    "\n",
    "    # Calculate the new gradients\n",
    "    loss.backward()\n",
    "\n",
    "    # Perform an optimization step\n",
    "    optimizer.step()\n",
    "\n",
    "    loss_logger.append(loss.item())\n",
    "\n",
    "print(\"loss:\", loss.item())"
   ]
  },
  {
   "cell_type": "code",
   "execution_count": 241,
   "metadata": {},
   "outputs": [
    {
     "data": {
      "text/plain": [
       "[<matplotlib.lines.Line2D at 0x184830139b0>]"
      ]
     },
     "execution_count": 241,
     "metadata": {},
     "output_type": "execute_result"
    },
    {
     "data": {
      "image/png": "[encoded data removed]",
      "text/plain": [
       "<Figure size 640x480 with 1 Axes>"
      ]
     },
     "metadata": {},
     "output_type": "display_data"
    }
   ],
   "source": [
    "# Lets graph the loss\n",
    "plt.plot(loss_logger)"
   ]
  },
  {
   "cell_type": "code",
   "execution_count": 242,
   "metadata": {},
   "outputs": [
    {
     "data": {
      "text/plain": [
       "Text(0, 0.5, 'Outputs')"
      ]
     },
     "execution_count": 242,
     "metadata": {},
     "output_type": "execute_result"
    },
    {
     "data": {
      "image/png": "[encoded data removed]",
      "text/plain": [
       "<Figure size 640x480 with 1 Axes>"
      ]
     },
     "metadata": {},
     "output_type": "display_data"
    }
   ],
   "source": [
    "# Plotting the first dimension of the input vs the output\n",
    "plt.scatter(data[:,0], target_pred.detach())\n",
    "plt.scatter(data[:,0], target, marker=\"+\")\n",
    "plt.legend([\"Predictions\", \"Ground truth\"])\n",
    "plt.xlabel(\"Inputs\")\n",
    "plt.ylabel(\"Outputs\")"
   ]
  }
 ],
 "metadata": {
  "kernelspec": {
   "display_name": "venv",
   "language": "python",
   "name": "python3"
  },
  "language_info": {
   "codemirror_mode": {
    "name": "ipython",
    "version": 3
   },
   "file_extension": ".py",
   "mimetype": "text/x-python",
   "name": "python",
   "nbconvert_exporter": "python",
   "pygments_lexer": "ipython3",
   "version": "3.12.8"
  }
 },
 "nbformat": 4,
 "nbformat_minor": 2
}
