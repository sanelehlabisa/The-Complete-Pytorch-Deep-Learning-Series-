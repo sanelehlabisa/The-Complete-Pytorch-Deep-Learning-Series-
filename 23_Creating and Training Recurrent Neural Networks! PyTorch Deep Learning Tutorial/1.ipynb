{
 "cells": [
  {
   "cell_type": "code",
   "execution_count": 1,
   "metadata": {},
   "outputs": [],
   "source": [
    "# Creating Recurrent Neural Network"
   ]
  },
  {
   "cell_type": "code",
   "execution_count": 2,
   "metadata": {},
   "outputs": [],
   "source": [
    "import pandas as pd\n",
    "import numpy as np \n",
    "import matplotlib.pyplot as plt\n",
    "\n",
    "import torch\n",
    "import torch.nn as nn\n",
    "from torch import optim\n",
    "from torch.utils.data import DataLoader\n",
    "from torch.utils.data.dataset import Dataset\n",
    "import torch.nn.functional as F\n",
    "\n",
    "from tqdm.notebook import trange, tqdm"
   ]
  },
  {
   "cell_type": "code",
   "execution_count": 3,
   "metadata": {},
   "outputs": [],
   "source": [
    "class WeatherDataset(Dataset):\n",
    "    def __init__(self, dataset_file, day_range, split_date, train_test=\"train\"):\n",
    "        df = pd.read_csv(dataset_file)\n",
    "        df['Date'] = pd.to_datetime(df['Date'])  # Convert 'Date' column to datetime\n",
    "        df.set_index('Date', inplace=True)\n",
    "\n",
    "        # Calculate the mean and std to normalise the data\n",
    "        mean = df.mean()\n",
    "        std = df.std()\n",
    "        df = (df - mean) / std\n",
    "\n",
    "        self.mean = torch.tensor(mean.to_numpy()).reshape(1, -1)\n",
    "        self.std = torch.tensor(std.to_numpy()).reshape(1, -1)\n",
    "\n",
    "        # Split the dataset to test/train set based on a split date\n",
    "        if train_test == \"train\":\n",
    "            self.dataset = df[df.index < split_date]\n",
    "        elif train_test == \"test\":\n",
    "            self.dataset = df[df.index >= split_date]\n",
    "        else:\n",
    "            ValueError(\"train_test should be train or test\")\n",
    "\n",
    "        self.day_range = day_range\n",
    "\n",
    "    def __getitem__(self, index):\n",
    "        # Index a range of days\n",
    "        end_index = index + self.day_range\n",
    "        current_series = self.dataset.iloc[index:end_index]\n",
    "\n",
    "        day_tensor = torch.LongTensor(current_series.index.day.to_numpy())\n",
    "        month_tensor = torch.LongTensor(current_series.index.month.to_numpy())\n",
    "        data_values = torch.FloatTensor(current_series.values)\n",
    "\n",
    "        return day_tensor, month_tensor, data_values\n",
    "\n",
    "    def __len__(self):\n",
    "        return len(self.dataset) - self.day_range"
   ]
  },
  {
   "cell_type": "code",
   "execution_count": null,
   "metadata": {},
   "outputs": [],
   "source": [
    "# Dataset filename\n",
    "dataset_file = \"../datasets/weather.csv\"\n",
    "\n",
    "# Test-Train split on date\n",
    "split_date = pd.to_datetime('2023-01-01')\n",
    "\n",
    "# Number of days in input sequence\n",
    "day_range = 30\n",
    "\n",
    "# Number of days the MLP will take as an input\n",
    "days_in = 14\n",
    "\n",
    "# Days in input seq must be larger that the MLP input size\n",
    "assert day_range > days_in\n",
    "\n",
    "# Define the hyperparameters\n",
    "learning_rate = 1e-4\n",
    "\n",
    "nepochs = 512\n",
    "\n",
    "batch_size = 32\n",
    "\n",
    "dataset_train = WeatherDataset(dataset_file, day_range, split_date, train_test=\"train\")\n",
    "dataset_test = WeatherDataset(dataset_file, day_range, split_date, train_test=\"test\")"
   ]
  },
  {
   "cell_type": "code",
   "execution_count": null,
   "metadata": {},
   "outputs": [],
   "source": [
    "print(\"Number of training examples:\", len(dataset_train))\n",
    "print(\"Number of testing examples:\", len(dataset_test))"
   ]
  },
  {
   "cell_type": "code",
   "execution_count": null,
   "metadata": {},
   "outputs": [],
   "source": [
    "data_loader_train = DataLoader(dataset=dataset_train, batch_size=batch_size, shuffle=True, drop_last=True)\n",
    "data_loader_test = DataLoader(dataset=dataset_test, batch_size=batch_size, shuffle=False, drop_last=True)\n"
   ]
  }
 ],
 "metadata": {
  "kernelspec": {
   "display_name": "venv",
   "language": "python",
   "name": "python3"
  },
  "language_info": {
   "codemirror_mode": {
    "name": "ipython",
    "version": 3
   },
   "file_extension": ".py",
   "mimetype": "text/x-python",
   "name": "python",
   "nbconvert_exporter": "python",
   "pygments_lexer": "ipython3",
   "version": "3.12.4"
  }
 },
 "nbformat": 4,
 "nbformat_minor": 2
}
