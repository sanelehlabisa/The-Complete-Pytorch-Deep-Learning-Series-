{
 "cells": [
  {
   "cell_type": "code",
   "execution_count": null,
   "metadata": {
    "vscode": {
     "languageId": "plaintext"
    }
   },
   "outputs": [],
   "source": []
  },
  {
   "cell_type": "code",
   "execution_count": null,
   "metadata": {
    "vscode": {
     "languageId": "plaintext"
    }
   },
   "outputs": [],
   "source": [
    "# torch and related packages\n",
    "import torch\n",
    "import torch.nn.functional as F\n",
    "import torch.nn as nn\n",
    "from torch.utils.data.dataset import Dataset\n",
    "import torch.utils.data.dataloader as dataloader\n",
    "\n",
    "# general packages\n",
    "import os\n",
    "import numpy as np\n",
    "import pandas as pd\n",
    "import matplotlib.pyplot as plt\n",
    "from tqdm.notebook import trange, tqdm\n",
    "\n",
    "# reading lime_tabular\n",
    "from lime import lime_tabular"
   ]
  },
  {
   "cell_type": "code",
   "execution_count": null,
   "metadata": {
    "vscode": {
     "languageId": "plaintext"
    }
   },
   "outputs": [],
   "source": [
    "# Set random seed for reproducibility.\n",
    "np.random.seed(0)\n",
    "torch.manual_seed(0) \n",
    "\n",
    "device =\"cuda:0\" if torch.cuda.is_available() else \"cpu\""
   ]
  },
  {
   "cell_type": "code",
   "execution_count": null,
   "metadata": {
    "vscode": {
     "languageId": "plaintext"
    }
   },
   "outputs": [],
   "source": [
    "class DatasetWBC(Dataset):\n",
    "    def __init__(self, dataset_root):\n",
    "        self.wbcd_df = pd.read_csv(os.path.join(dataset_root,\"breast-cancer.csv\"))\n",
    "\n",
    "        # remove the id column\n",
    "        self.wbcd_df = self.wbcd_df.drop([\"id\",\"Unnamed: 32\"], axis=1)\n",
    "\n",
    "        # replace M with 1 and B with 0 for the diagnosis column\n",
    "        diag_map = {'M':1, 'B':0}\n",
    "        self.wbcd_df[\"diagnosis\"] = self.wbcd_df[\"diagnosis\"].map(diag_map)\n",
    "\n",
    "        # Convert features and labels to numpy arrays.\n",
    "        self.wbcd_labels = torch.LongTensor(self.wbcd_df[\"diagnosis\"].to_numpy())\n",
    "        self.wbcd_df = self.wbcd_df.drop([\"diagnosis\"], axis=1)\n",
    "        \n",
    "        self.feature_names = list(self.wbcd_df.columns)\n",
    "        self.wbcd_data = torch.FloatTensor(self.wbcd_df.to_numpy())\n",
    "\n",
    "        # normalizing features \n",
    "        self.wbcd_data -= self.wbcd_data.mean(0, keepdims=True)\n",
    "        self.wbcd_data /= self.wbcd_data.std(0, keepdims=True)\n",
    "        \n",
    "        \n",
    "    def __getitem__(self, index):\n",
    "        return self.wbcd_data[index], self.wbcd_labels[index]\n",
    "\n",
    "    def __len__(self):\n",
    "        return self.wbcd_data.shape[0]"
   ]
  },
  {
   "cell_type": "code",
   "execution_count": null,
   "metadata": {
    "vscode": {
     "languageId": "plaintext"
    }
   },
   "outputs": [],
   "source": [
    "data_set_root = \"../data\"\n",
    "dataset = DatasetWBC(data_set_root)\n",
    "\n",
    "# Split training data into train and validation set with 90/10% training/validation split\n",
    "validation_split = 0.8\n",
    "\n",
    "n_train_examples = int(len(dataset)*validation_split)\n",
    "n_valid_examples = len(dataset) - n_train_examples\n",
    "train_dataset, valid_dataset = torch.utils.data.random_split(dataset, [n_train_examples, n_valid_examples],\n",
    "                                                       generator=torch.Generator().manual_seed(42))"
   ]
  },
  {
   "cell_type": "code",
   "execution_count": null,
   "metadata": {
    "vscode": {
     "languageId": "plaintext"
    }
   },
   "outputs": [],
   "source": [
    "# Using the Pytorch dataloader class and the Pytorch datasets we with create itterable dataloader objects\n",
    "train_loader = dataloader.DataLoader(train_dataset, shuffle=True, batch_size=128) \n",
    "valid_loader = dataloader.DataLoader(valid_dataset, shuffle=False, batch_size=128)"
   ]
  },
  {
   "cell_type": "code",
   "execution_count": null,
   "metadata": {
    "vscode": {
     "languageId": "plaintext"
    }
   },
   "outputs": [],
   "source": [
    "# let's check the records\n",
    "dataset.wbcd_df"
   ]
  },
  {
   "cell_type": "code",
   "execution_count": null,
   "metadata": {
    "vscode": {
     "languageId": "plaintext"
    }
   },
   "outputs": [],
   "source": [
    "class MLP(nn.Module):\n",
    "    def __init__(self, input_size=30, hidden_size=32):\n",
    "        super().__init__()\n",
    "        self.fc1  = nn.Linear(input_size, hidden_size)\n",
    "        self.fc2  = nn.Linear(hidden_size, hidden_size)\n",
    "        self.fc3  = nn.Linear(hidden_size, 2)\n",
    "        self.elu = nn.ELU()\n",
    "\n",
    "    def forward(self, x):\n",
    "        x = self.elu(self.fc1(x))\n",
    "        x = self.elu(self.fc2(x))\n",
    "        x = self.fc3(x)\n",
    "        return x"
   ]
  },
  {
   "cell_type": "code",
   "execution_count": null,
   "metadata": {
    "vscode": {
     "languageId": "plaintext"
    }
   },
   "outputs": [],
   "source": [
    "num_epochs = 50\n",
    "net = MLP().to(device)\n",
    "criterion = nn.CrossEntropyLoss()\n",
    "optimizer = torch.optim.Adam(net.parameters(), lr=0.001)"
   ]
  },
  {
   "cell_type": "code",
   "execution_count": null,
   "metadata": {
    "vscode": {
     "languageId": "plaintext"
    }
   },
   "outputs": [],
   "source": [
    "train_loss_log = []\n",
    "train_acc_log = []\n",
    "valid_acc_log = []"
   ]
  },
  {
   "cell_type": "code",
   "execution_count": null,
   "metadata": {
    "vscode": {
     "languageId": "plaintext"
    }
   },
   "outputs": [],
   "source": [
    "for epoch in trange(num_epochs, leave=False):   \n",
    "    net.train()\n",
    "    train_acc = 0\n",
    "    for (data, labels) in tqdm(train_loader, leave=False):\n",
    "        data = data.to(device)\n",
    "        labels = labels.to(device)\n",
    "\n",
    "        output = net(data)\n",
    "        loss = criterion(output, labels)\n",
    "        \n",
    "        optimizer.zero_grad()\n",
    "        loss.backward()\n",
    "        optimizer.step()\n",
    "        \n",
    "        train_acc += (output.argmax(1) == labels).sum().item()\n",
    "        \n",
    "    train_acc_log.append(train_acc/len(train_dataset))\n",
    "    \n",
    "    valid_acc = 0\n",
    "    net.eval()\n",
    "    with torch.no_grad():\n",
    "        for (data, labels) in tqdm(valid_loader, leave=False):\n",
    "            data = data.to(device)\n",
    "            labels = labels.to(device)\n",
    "\n",
    "            output = net(data)\n",
    "            valid_acc += (output.argmax(1) == labels).sum().item()\n",
    "        valid_acc_log.append(valid_acc/len(valid_dataset))"
   ]
  },
  {
   "cell_type": "code",
   "execution_count": null,
   "metadata": {
    "vscode": {
     "languageId": "plaintext"
    }
   },
   "outputs": [],
   "source": [
    "_ = plt.plot(train_acc_log)\n",
    "_ = plt.plot(valid_acc_log)\n",
    "_ = plt.legend([\"train\", \"validation\"])"
   ]
  },
  {
   "cell_type": "code",
   "execution_count": null,
   "metadata": {
    "vscode": {
     "languageId": "plaintext"
    }
   },
   "outputs": [],
   "source": [
    "def mlp_predict(inp_array_numpy):\n",
    "    net.eval()\n",
    "    inp_tensor = torch.FloatTensor(inp_array_numpy).to(device)    \n",
    "    logits = net(inp_tensor)\n",
    "    probs = F.softmax(logits, dim=1).cpu().detach().numpy()\n",
    "    return probs"
   ]
  },
  {
   "cell_type": "code",
   "execution_count": null,
   "metadata": {
    "vscode": {
     "languageId": "plaintext"
    }
   },
   "outputs": [],
   "source": [
    "wbcd_class_names = [\"benign\", \"malignant\"]\n",
    "\n",
    "train_data = train_dataset.dataset.wbcd_data.numpy()\n",
    "train_labels = train_dataset.dataset.wbcd_labels.numpy()\n",
    "\n",
    "feature_names = train_dataset.dataset.feature_names\n",
    "explainer = lime_tabular.LimeTabularExplainer(train_data, mode=\"classification\",\n",
    "                                              class_names=wbcd_class_names,\n",
    "                                              feature_names=feature_names,\n",
    "                                             )"
   ]
  },
  {
   "cell_type": "code",
   "execution_count": null,
   "metadata": {
    "vscode": {
     "languageId": "plaintext"
    }
   },
   "outputs": [],
   "source": [
    "idx = 0\n",
    "inp_explainer = np.expand_dims(train_data[idx], axis=0)\n",
    "explanation = explainer.explain_instance(train_data[idx], mlp_predict,\n",
    "                                         num_features=len(feature_names))\n",
    "\n",
    "print(\"Prediction : \", wbcd_class_names[np.argmax(mlp_predict(inp_explainer))])\n",
    "print(\"Actual :     \", wbcd_class_names[train_labels[idx]])\n",
    "\n",
    "explanation.show_in_notebook()"
   ]
  }
 ],
 "metadata": {
  "language_info": {
   "name": "python"
  }
 },
 "nbformat": 4,
 "nbformat_minor": 2
}
