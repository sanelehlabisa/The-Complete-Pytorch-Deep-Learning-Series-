{
 "cells": [
  {
   "cell_type": "code",
   "execution_count": 2,
   "metadata": {},
   "outputs": [],
   "source": [
    "import numpy as np\n",
    "import torch\n",
    "import torchvision\n",
    "import torch.nn as nn\n",
    "import numpy as np\n",
    "import matplotlib.pyplot as plt"
   ]
  },
  {
   "cell_type": "code",
   "execution_count": 3,
   "metadata": {},
   "outputs": [],
   "source": [
    "class SimpleFunction(nn.Module):\n",
    "    \"\"\"\n",
    "    Simple implementation of an nn.Module subclass\n",
    "    Takes the input (x) and returns x * 4 + 2\n",
    "    \"\"\"\n",
    "    def __init__(self):\n",
    "        # Pass our class and self to superclass and call the superclass's init function\n",
    "        super(SimpleFunction, self).__init__() \n",
    "        \n",
    "    def forward(self, x):\n",
    "        return x * 4 + 2"
   ]
  },
  {
   "cell_type": "code",
   "execution_count": 4,
   "metadata": {},
   "outputs": [
    {
     "name": "stdout",
     "output_type": "stream",
     "text": [
      "Class output: 42\n"
     ]
    }
   ],
   "source": [
    "# Create an instance of our class\n",
    "simple_function = SimpleFunction()\n",
    "# Perform a \"forward pass\" of our class\n",
    "output = simple_function(10)\n",
    "print(\"Class output:\", output)\n",
    "# Note we do NOT need to explicitly call the .forward() function of our class,\n",
    "# a forward pass of our models is such a common step that Pytorch makes it easier and cleaner for us to do"
   ]
  },
  {
   "cell_type": "code",
   "execution_count": 5,
   "metadata": {},
   "outputs": [],
   "source": [
    "class LinearModel(nn.Module):\n",
    "    \"\"\"\n",
    "    Takes the input (x) and returns x * w^t + b\n",
    "    \"\"\"\n",
    "    def __init__(self, input_size, output_size):\n",
    "        # Pass our class and self to superclass and call the superclass's init function\n",
    "        super(LinearModel, self).__init__() \n",
    "        # nn.Parameter wraps our normal tensors and \"tells\" Pytorch\n",
    "        # that they are our nn.Module's model parameters to be optimized \n",
    "        self.w = nn.Parameter(torch.randn(output_size, input_size))\n",
    "        self.b = nn.Parameter(torch.randn(1, output_size))\n",
    "\n",
    "    def forward(self, x):\n",
    "        return torch.matmul(x,  self.w.t()) + self.b"
   ]
  },
  {
   "cell_type": "code",
   "execution_count": 6,
   "metadata": {},
   "outputs": [
    {
     "name": "stdout",
     "output_type": "stream",
     "text": [
      "torch.Size([10, 1])\n",
      "tensor([[-1.7428],\n",
      "        [ 1.0544],\n",
      "        [-2.5930],\n",
      "        [-2.6485],\n",
      "        [ 1.7211],\n",
      "        [ 0.9026],\n",
      "        [ 2.6292],\n",
      "        [ 2.3128],\n",
      "        [-1.5810],\n",
      "        [-2.2778]])\n"
     ]
    }
   ],
   "source": [
    "# Create a batch of 10 datapoints each 5D\n",
    "input_data = torch.randn(10, 5)\n",
    "\n",
    "# Create an instance of our Model\n",
    "linear_model = LinearModel(5, 1)\n",
    "\n",
    "# Perform a forward pass!\n",
    "output = linear_model(input_data)\n",
    "\n",
    "print(output.shape)\n",
    "print(output.detach())\n",
    "# Note: detach \"disconnects\" the tensor and returns it with no history of previous calculations"
   ]
  },
  {
   "cell_type": "code",
   "execution_count": 7,
   "metadata": {},
   "outputs": [
    {
     "name": "stdout",
     "output_type": "stream",
     "text": [
      "w:\n",
      " tensor([[-0.3093, -0.4754, -0.1177]])\n",
      "b:\n",
      " tensor([0.0590])\n",
      "w shape:\n",
      " torch.Size([1, 3])\n",
      "b shape:\n",
      " torch.Size([1])\n"
     ]
    }
   ],
   "source": [
    "# Build a linear layer aka a \"fully connected\" layer aka a \"Perceptron\" layer\n",
    "# nn.Linear(Number of inputs, Number of outputs) \n",
    "linear = nn.Linear(3, 1) \n",
    "\n",
    "# Lets have a look at the parameters of this layer\n",
    "# The \"weights\" are what is multipied by the input data\n",
    "print ('w:\\n', linear.weight.data)\n",
    "# The bias is then added on!\n",
    "print ('b:\\n', linear.bias.data)\n",
    "\n",
    "print ('w shape:\\n', linear.weight.data.shape)\n",
    "print ('b shape:\\n', linear.bias.data.shape)\n",
    "# Note: .data just gives us the raw Tensor without any connection to the computational graph\n",
    "# - it looks nicer when we print it out\n",
    "# Note: The opperation the linear layer performs is y = x*A^t + b\n",
    "# where A^t is the transpose of the weights and b is the bias,\n",
    "# this opperation is also know as an \"affine transformation\""
   ]
  },
  {
   "cell_type": "code",
   "execution_count": 8,
   "metadata": {},
   "outputs": [
    {
     "name": "stdout",
     "output_type": "stream",
     "text": [
      "w:\n",
      " None\n",
      "b:\n",
      " None\n"
     ]
    }
   ],
   "source": [
    "# Lets have a look at the gradients of these parameters\n",
    "print ('w:\\n', linear.weight.grad)\n",
    "print ('b:\\n', linear.bias.grad)\n",
    "# Note: Pytorch initialises the grad of the tensors to \"None\" NOT 0!\n",
    "# They only get created after the first backwards pass."
   ]
  },
  {
   "cell_type": "code",
   "execution_count": 9,
   "metadata": {},
   "outputs": [
    {
     "name": "stdout",
     "output_type": "stream",
     "text": [
      "Input data:\n",
      " tensor([[-0.2283, -0.5662, -0.3365],\n",
      "        [ 1.3275, -0.2972,  0.9277],\n",
      "        [-1.0570, -0.1023, -0.6270],\n",
      "        [-1.1833,  0.6288,  0.7276],\n",
      "        [ 0.9919,  0.1407,  0.2992],\n",
      "        [ 0.9607, -0.2415,  0.2327],\n",
      "        [ 0.1849,  0.9271, -0.6115],\n",
      "        [ 0.9197, -0.5222,  1.4199],\n",
      "        [-0.7214, -2.3191, -0.7743],\n",
      "        [ 2.4516, -0.4726, -1.3946]])\n",
      "Output data:\n",
      " tensor([[-1.1567],\n",
      "        [ 1.9466],\n",
      "        [-1.7925],\n",
      "        [ 0.1744],\n",
      "        [ 1.4465],\n",
      "        [ 0.9519],\n",
      "        [ 0.4861],\n",
      "        [ 1.8139],\n",
      "        [-3.8247],\n",
      "        [ 0.5917]])\n"
     ]
    }
   ],
   "source": [
    "# Create a random data input tensor\n",
    "data = torch.randn(100, 3)\n",
    "# Create some noisey target data\n",
    "target = data.sum(1, keepdims=True) + 0.01*torch.randn(data.shape[0], 1)\n",
    "print ('Input data:\\n', data[:10])\n",
    "print ('Output data:\\n', target[:10])"
   ]
  },
  {
   "cell_type": "code",
   "execution_count": 10,
   "metadata": {},
   "outputs": [
    {
     "name": "stdout",
     "output_type": "stream",
     "text": [
      "Network output:\n",
      " tensor([[ 0.4384],\n",
      "        [-0.3194],\n",
      "        [ 0.5083],\n",
      "        [ 0.0404],\n",
      "        [-0.3499],\n",
      "        [-0.1507],\n",
      "        [-0.3670],\n",
      "        [-0.1442],\n",
      "        [ 1.4758],\n",
      "        [-0.3105]])\n",
      "Network output shape: torch.Size([100, 1])\n"
     ]
    }
   ],
   "source": [
    "# Remember! To perform a forward pass of our model, we just need to \"call\" our network\n",
    "# Pytorch's nn.Module class will automatically pass it to the \"forward\" function in the layer class\n",
    "target_pred = linear(data)\n",
    "print(\"Network output:\\n\", target_pred.data[:10])\n",
    "print(\"Network output shape:\", target_pred.shape)"
   ]
  },
  {
   "cell_type": "code",
   "execution_count": 11,
   "metadata": {},
   "outputs": [],
   "source": [
    "# Lets perform a regression with a mean square error loss\n",
    "loss_function = nn.MSELoss()\n",
    "\n",
    "# Lets create a Stochastic gradient descent optimizer with a learning rate of 0.01\n",
    "# (the way we will be using it, it is just normal GD) \n",
    "# When we create the optimizer we need to tell it WHAT it needs to optimize, so the first thing \n",
    "# We pass it are the linear layer's \"parameters\"\n",
    "optimizer = torch.optim.SGD(linear.parameters(), lr=0.01) "
   ]
  },
  {
   "cell_type": "code",
   "execution_count": 12,
   "metadata": {},
   "outputs": [
    {
     "data": {
      "text/plain": [
       "Text(0, 0.5, 'Ouputs')"
      ]
     },
     "execution_count": 12,
     "metadata": {},
     "output_type": "execute_result"
    },
    {
     "data": {
      "image/png": "[encoded data removed]",
      "text/plain": [
       "<Figure size 640x480 with 1 Axes>"
      ]
     },
     "metadata": {},
     "output_type": "display_data"
    }
   ],
   "source": [
    "# Plotting the first dimension of the input vs the output\n",
    "\n",
    "# Use the outputs of the model from a few cells ago\n",
    "plt.scatter(data[:, 0], target_pred.detach())\n",
    "# Use the Ground Truth data\n",
    "plt.scatter(data[:, 0], target, marker=\"x\")\n",
    "plt.legend([\"Predictions\", \"Ground Truth Data\"])\n",
    "plt.xlabel(\"Inputs\")\n",
    "plt.ylabel(\"Ouputs\")"
   ]
  },
  {
   "cell_type": "code",
   "execution_count": 13,
   "metadata": {},
   "outputs": [
    {
     "name": "stdout",
     "output_type": "stream",
     "text": [
      "loss: 4.542767524719238\n"
     ]
    }
   ],
   "source": [
    "loss = loss_function(target_pred, target)\n",
    "print('loss:', loss.item())"
   ]
  },
  {
   "cell_type": "code",
   "execution_count": 14,
   "metadata": {},
   "outputs": [
    {
     "name": "stdout",
     "output_type": "stream",
     "text": [
      "dL/dw:  tensor([[-2.2521, -2.3776, -2.3416]])\n",
      "dL/db:  tensor([0.0844])\n"
     ]
    }
   ],
   "source": [
    "# Backward pass.\n",
    "loss.backward()\n",
    "# Print out the gradients.\n",
    "print ('dL/dw: ', linear.weight.grad) \n",
    "print ('dL/db: ', linear.bias.grad)\n",
    "# Note for every backwards pass of the model we must first perform a forward pass\n",
    "# as data from parts of the computational graph have been deleted upon the backward pass to save memory.\n",
    "# We can tell Pytorch to hold onto this data, but, in many cases it needs to be recalculated anyway"
   ]
  },
  {
   "cell_type": "code",
   "execution_count": 15,
   "metadata": {},
   "outputs": [
    {
     "name": "stdout",
     "output_type": "stream",
     "text": [
      "loss after 1 step optimization:  4.382079601287842\n"
     ]
    }
   ],
   "source": [
    "# he critical step to update the parameter which reduce the loss\n",
    "optimizer.step()\n",
    "\n",
    "# Perform another forward pass of the model to check the new loss\n",
    "target_pred = linear(data)\n",
    "loss = loss_function(target_pred, target)\n",
    "print('loss after 1 step optimization: ', loss.item())"
   ]
  },
  {
   "cell_type": "code",
   "execution_count": 16,
   "metadata": {},
   "outputs": [
    {
     "name": "stdout",
     "output_type": "stream",
     "text": [
      "loss: 9.318812954006717e-05\n"
     ]
    }
   ],
   "source": [
    "# Lets create an empty array to log the loss\n",
    "loss_logger = []\n",
    "\n",
    "# Lets perform 100 itterations of our dataset\n",
    "for i in range(1000):\n",
    "    # Perform a forward pass of our data\n",
    "    target_pred = linear(data)\n",
    "    \n",
    "    # Calculate the loss\n",
    "    loss = loss_function(target_pred, target)\n",
    "    \n",
    "    # .zero_grad sets the stored gradients to 0\n",
    "    # If we didn't do this they would be added to the \n",
    "    # Gradients from the previous step!\n",
    "    optimizer.zero_grad()\n",
    "    \n",
    "    # Calculate the new gradients\n",
    "    loss.backward()\n",
    "    \n",
    "    # Perform an optimization step!\n",
    "    optimizer.step()\n",
    "\n",
    "    loss_logger.append(loss.item())\n",
    "    \n",
    "print(\"loss:\", loss.item())"
   ]
  },
  {
   "cell_type": "code",
   "execution_count": 17,
   "metadata": {},
   "outputs": [
    {
     "data": {
      "text/plain": [
       "[<matplotlib.lines.Line2D at 0x771883988460>]"
      ]
     },
     "execution_count": 17,
     "metadata": {},
     "output_type": "execute_result"
    },
    {
     "data": {
      "image/png": "[encoded data removed]",
      "text/plain": [
       "<Figure size 640x480 with 1 Axes>"
      ]
     },
     "metadata": {},
     "output_type": "display_data"
    }
   ],
   "source": [
    "plt.plot(loss_logger)"
   ]
  },
  {
   "cell_type": "code",
   "execution_count": 18,
   "metadata": {},
   "outputs": [
    {
     "data": {
      "text/plain": [
       "Text(0, 0.5, 'Ouputs')"
      ]
     },
     "execution_count": 18,
     "metadata": {},
     "output_type": "execute_result"
    },
    {
     "data": {
      "image/png": "[encoded data removed]",
      "text/plain": [
       "<Figure size 640x480 with 1 Axes>"
      ]
     },
     "metadata": {},
     "output_type": "display_data"
    }
   ],
   "source": [
    "# Plotting the first dimension of the input vs the output\n",
    "plt.scatter(data[:, 0], target_pred.detach())\n",
    "plt.scatter(data[:, 0], target, marker=\"x\")\n",
    "plt.legend([\"Predictions\", \"Ground Truth\"])\n",
    "plt.xlabel(\"Inputs\")\n",
    "plt.ylabel(\"Ouputs\")"
   ]
  }
 ],
 "metadata": {
  "kernelspec": {
   "display_name": "venv",
   "language": "python",
   "name": "python3"
  },
  "language_info": {
   "codemirror_mode": {
    "name": "ipython",
    "version": 3
   },
   "file_extension": ".py",
   "mimetype": "text/x-python",
   "name": "python",
   "nbconvert_exporter": "python",
   "pygments_lexer": "ipython3",
   "version": "3.10.12"
  }
 },
 "nbformat": 4,
 "nbformat_minor": 2
}
